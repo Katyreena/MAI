{
  "nbformat": 4,
  "nbformat_minor": 0,
  "metadata": {
    "colab": {
      "provenance": [],
      "include_colab_link": true
    },
    "kernelspec": {
      "name": "python3",
      "display_name": "Python 3"
    },
    "language_info": {
      "name": "python"
    }
  },
  "cells": [
    {
      "cell_type": "markdown",
      "metadata": {
        "id": "view-in-github",
        "colab_type": "text"
      },
      "source": [
        "<a href=\"https://colab.research.google.com/github/katyreena/MAI/blob/main/AI/Homework_2023/OpenCV/LW_2.ipynb\" target=\"_parent\"><img src=\"https://colab.research.google.com/assets/colab-badge.svg\" alt=\"Open In Colab\"/></a>"
      ]
    },
    {
      "cell_type": "markdown",
      "source": [
        "##Задание 1: работа с цветовым пространством HSV.\n",
        "На практике познакомились с преимуществами использования пространства HSV /Если кратко, то с помощью этой модели легче описывать цвет, который мы хотим получить. Поскольку здесь мы оперируем понятиями H = Hue = оттенок, S = Saturation = насыщенность, V = Value = яркость. Используя модель HSV попробуйте еще раз выполнить задание по превращению \"starry_night\" в \"starry_day\" (из дз №1)"
      ],
      "metadata": {
        "id": "Q8Vd4g_Pt2xg"
      }
    },
    {
      "cell_type": "code",
      "source": [
        "import cv2 as cv\n",
        "import numpy as np\n",
        "\n",
        "image = cv.imread(\"starry_night.jpg\")\n",
        "for row in image:\n",
        "  for pixel in row:\n",
        "    hue = pixel[0]\n",
        "    if 90 <= hue <= 130:\n",
        "      pixel[0] = 30\n",
        "      pixel[1] = 200\n",
        "      pixel[2] = max(255, pixel[2]+10)\n",
        "\n",
        "\n",
        "cv.imwrite('starry_day.jpg', image)"
      ],
      "metadata": {
        "colab": {
          "base_uri": "https://localhost:8080/"
        },
        "id": "UbxzUTWYtiKu",
        "outputId": "ba605ba0-17bf-4e1a-dd91-bda9852b1756"
      },
      "execution_count": null,
      "outputs": [
        {
          "output_type": "execute_result",
          "data": {
            "text/plain": [
              "True"
            ]
          },
          "metadata": {},
          "execution_count": 21
        }
      ]
    },
    {
      "cell_type": "markdown",
      "source": [
        "##Задание 2:\n",
        "На занятии мы разобрали несколько подходов для того, чтобы \"размыть\" изображение.\n",
        " Для этого мы использовали фильтры, представленные различными матрицами (ядрами). Вопрос - как нам решить обратную задачу? Т.е., имея размытое изображение, как сделать его более четким? Попробуйте подобрать матрицу, которая может это сделать."
      ],
      "metadata": {
        "id": "M3lXXBMvt9dH"
      }
    },
    {
      "cell_type": "code",
      "source": [
        "import cv2 as cv\n",
        "import numpy as np\n",
        "\n",
        "image = cv.imread(\"starry_night.jpg\")\n",
        "\n",
        "blur = cv.blur(image, (5, 5))\n",
        "\n",
        "cv.imwrite('blur.jpg', blur)\n",
        "\n",
        "kernel_sharpen = np.array([[-1, -1, -1],\n",
        "                           [-1,  9, -1],\n",
        "                           [-1, -1, -1]])\n",
        "clear = cv.filter2D(blur, -1, kernel_sharpen)\n",
        "cv.imwrite('clear.jpg', clear)"
      ],
      "metadata": {
        "colab": {
          "base_uri": "https://localhost:8080/"
        },
        "id": "c7hDIDMWuBnn",
        "outputId": "fd45c8f9-0296-4c58-c326-469fcfd3a383"
      },
      "execution_count": null,
      "outputs": [
        {
          "output_type": "execute_result",
          "data": {
            "text/plain": [
              "True"
            ]
          },
          "metadata": {},
          "execution_count": 32
        }
      ]
    }
  ]
}