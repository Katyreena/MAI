{
  "nbformat": 4,
  "nbformat_minor": 0,
  "metadata": {
    "colab": {
      "provenance": [],
      "collapsed_sections": []
    },
    "kernelspec": {
      "name": "python3",
      "display_name": "Python 3"
    },
    "language_info": {
      "name": "python"
    }
  },
  "cells": [
    {
      "cell_type": "markdown",
      "source": [
        "# Numpy100\n",
        "\n",
        "*   Выдано заданий: (39 / 100)\n",
        "*   Выполнено заданий: (39 / 39)\n",
        "*   Выполнео заданий всего: (39 / 100)\n"
      ],
      "metadata": {
        "id": "7EC1qWgdvzje"
      }
    },
    {
      "cell_type": "markdown",
      "source": [
        "### 1. Import the numpy package under the name np (★☆☆)"
      ],
      "metadata": {
        "id": "i87uKauCx0i-"
      }
    },
    {
      "cell_type": "code",
      "source": [
        "import numpy as np"
      ],
      "metadata": {
        "id": "PL7DFwelwV21"
      },
      "execution_count": null,
      "outputs": []
    },
    {
      "cell_type": "markdown",
      "source": [
        "### 2. Print the numpy version and the configuration (★☆☆)"
      ],
      "metadata": {
        "id": "Y_rsMWZTx741"
      }
    },
    {
      "cell_type": "code",
      "source": [
        "print(\"Версия: \", np.version.version, \"\\nКонфигурация: \")\n",
        "np.show_config()"
      ],
      "metadata": {
        "colab": {
          "base_uri": "https://localhost:8080/"
        },
        "id": "jlArmZ4qx8BO",
        "outputId": "02c26942-e988-40d7-f4c2-199595963624"
      },
      "execution_count": null,
      "outputs": [
        {
          "output_type": "stream",
          "name": "stdout",
          "text": [
            "Версия:  1.21.6 \n",
            "Конфигурация: \n",
            "blas_mkl_info:\n",
            "  NOT AVAILABLE\n",
            "blis_info:\n",
            "  NOT AVAILABLE\n",
            "openblas_info:\n",
            "    libraries = ['openblas', 'openblas']\n",
            "    library_dirs = ['/usr/local/lib']\n",
            "    language = c\n",
            "    define_macros = [('HAVE_CBLAS', None)]\n",
            "    runtime_library_dirs = ['/usr/local/lib']\n",
            "blas_opt_info:\n",
            "    libraries = ['openblas', 'openblas']\n",
            "    library_dirs = ['/usr/local/lib']\n",
            "    language = c\n",
            "    define_macros = [('HAVE_CBLAS', None)]\n",
            "    runtime_library_dirs = ['/usr/local/lib']\n",
            "lapack_mkl_info:\n",
            "  NOT AVAILABLE\n",
            "openblas_lapack_info:\n",
            "    libraries = ['openblas', 'openblas']\n",
            "    library_dirs = ['/usr/local/lib']\n",
            "    language = c\n",
            "    define_macros = [('HAVE_CBLAS', None)]\n",
            "    runtime_library_dirs = ['/usr/local/lib']\n",
            "lapack_opt_info:\n",
            "    libraries = ['openblas', 'openblas']\n",
            "    library_dirs = ['/usr/local/lib']\n",
            "    language = c\n",
            "    define_macros = [('HAVE_CBLAS', None)]\n",
            "    runtime_library_dirs = ['/usr/local/lib']\n",
            "Supported SIMD extensions in this NumPy install:\n",
            "    baseline = SSE,SSE2,SSE3\n",
            "    found = SSSE3,SSE41,POPCNT,SSE42,AVX,F16C,FMA3,AVX2\n",
            "    not found = AVX512F,AVX512CD,AVX512_KNL,AVX512_KNM,AVX512_SKX,AVX512_CLX,AVX512_CNL,AVX512_ICL\n"
          ]
        }
      ]
    },
    {
      "cell_type": "markdown",
      "source": [
        "### 3. Create a null vector of size 10 (★☆☆)"
      ],
      "metadata": {
        "id": "V01PigK1x8Ll"
      }
    },
    {
      "cell_type": "code",
      "source": [
        "vector = np.zeros(10)\n",
        "vector"
      ],
      "metadata": {
        "id": "wICGMn3jx8UN",
        "colab": {
          "base_uri": "https://localhost:8080/"
        },
        "outputId": "cc914cd4-6c14-481a-b85b-5bc8b43422cf"
      },
      "execution_count": null,
      "outputs": [
        {
          "output_type": "execute_result",
          "data": {
            "text/plain": [
              "array([0., 0., 0., 0., 0., 0., 0., 0., 0., 0.])"
            ]
          },
          "metadata": {},
          "execution_count": 2
        }
      ]
    },
    {
      "cell_type": "markdown",
      "source": [
        "### 4. How to find the memory size of any array (★☆☆)"
      ],
      "metadata": {
        "id": "VKkGKymjx8au"
      }
    },
    {
      "cell_type": "code",
      "source": [
        "arr = np.ones([2, 3])\n",
        "print(\"Elements count: \", arr.size, \"\\nBytes: \", arr.itemsize * arr.size)"
      ],
      "metadata": {
        "id": "-_2f-VNAx8hd",
        "colab": {
          "base_uri": "https://localhost:8080/"
        },
        "outputId": "c2a6c4ac-01a5-409e-fa80-c21af7b600ec"
      },
      "execution_count": null,
      "outputs": [
        {
          "output_type": "stream",
          "name": "stdout",
          "text": [
            "Elements count:  6 \n",
            "Bytes:  48\n"
          ]
        }
      ]
    },
    {
      "cell_type": "markdown",
      "source": [
        "### 5. How to get the documentation of the numpy add function from the command line? (★☆☆)"
      ],
      "metadata": {
        "id": "H5ZQhTqix8oX"
      }
    },
    {
      "cell_type": "code",
      "source": [
        "#python -c \"import numpy; numpy.info(numpy.add)\""
      ],
      "metadata": {
        "id": "_Yl3yBpzx8vH"
      },
      "execution_count": null,
      "outputs": []
    },
    {
      "cell_type": "markdown",
      "source": [
        "### 6. Create a null vector of size 10 but the fifth value which is 1 (★☆☆)"
      ],
      "metadata": {
        "id": "o98Vd3tOx81O"
      }
    },
    {
      "cell_type": "code",
      "source": [
        "vector = np.zeros(10)\n",
        "vector[5] = 1\n",
        "vector"
      ],
      "metadata": {
        "id": "Nk6Pr_3Ax88W",
        "colab": {
          "base_uri": "https://localhost:8080/"
        },
        "outputId": "5ec9d900-8836-4a1f-a70e-91927617ccf5"
      },
      "execution_count": null,
      "outputs": [
        {
          "output_type": "execute_result",
          "data": {
            "text/plain": [
              "array([0., 0., 0., 0., 0., 1., 0., 0., 0., 0.])"
            ]
          },
          "metadata": {},
          "execution_count": 19
        }
      ]
    },
    {
      "cell_type": "markdown",
      "source": [
        "### 7. Create a vector with values ranging from 10 to 49 (★☆☆)"
      ],
      "metadata": {
        "id": "wLbfd--Cx9DG"
      }
    },
    {
      "cell_type": "code",
      "source": [
        "vector = np.arange(10, 50)\n",
        "vector"
      ],
      "metadata": {
        "id": "b7M-eiopx9Jw",
        "colab": {
          "base_uri": "https://localhost:8080/"
        },
        "outputId": "28ad29a2-11ac-4697-908e-9a6bc7eb1a5b"
      },
      "execution_count": null,
      "outputs": [
        {
          "output_type": "execute_result",
          "data": {
            "text/plain": [
              "array([10, 11, 12, 13, 14, 15, 16, 17, 18, 19, 20, 21, 22, 23, 24, 25, 26,\n",
              "       27, 28, 29, 30, 31, 32, 33, 34, 35, 36, 37, 38, 39, 40, 41, 42, 43,\n",
              "       44, 45, 46, 47, 48, 49])"
            ]
          },
          "metadata": {},
          "execution_count": 21
        }
      ]
    },
    {
      "cell_type": "markdown",
      "source": [
        "### 8. Reverse a vector (first element becomes last) (★☆☆)"
      ],
      "metadata": {
        "id": "k40HGRudx9QW"
      }
    },
    {
      "cell_type": "code",
      "source": [
        "vector = vector[::-1]\n",
        "vector"
      ],
      "metadata": {
        "id": "-7GLLAEEx9X2",
        "colab": {
          "base_uri": "https://localhost:8080/"
        },
        "outputId": "5e60e888-fa32-44d0-fed0-425bf876a1b9"
      },
      "execution_count": null,
      "outputs": [
        {
          "output_type": "execute_result",
          "data": {
            "text/plain": [
              "array([49, 48, 47, 46, 45, 44, 43, 42, 41, 40, 39, 38, 37, 36, 35, 34, 33,\n",
              "       32, 31, 30, 29, 28, 27, 26, 25, 24, 23, 22, 21, 20, 19, 18, 17, 16,\n",
              "       15, 14, 13, 12, 11, 10])"
            ]
          },
          "metadata": {},
          "execution_count": 22
        }
      ]
    },
    {
      "cell_type": "markdown",
      "source": [
        "### 9. Create a 3x3 matrix with values ranging from 0 to 8 (★☆☆)"
      ],
      "metadata": {
        "id": "MrbEfWECx9ee"
      }
    },
    {
      "cell_type": "code",
      "source": [
        "matrix = np.arange(9)\n",
        "matrix.shape = 3, 3\n",
        "matrix"
      ],
      "metadata": {
        "id": "k5V3JauEx9lA",
        "colab": {
          "base_uri": "https://localhost:8080/"
        },
        "outputId": "c4ed111b-6441-4578-a1be-8c4e23c7041c"
      },
      "execution_count": null,
      "outputs": [
        {
          "output_type": "execute_result",
          "data": {
            "text/plain": [
              "array([[0, 1, 2],\n",
              "       [3, 4, 5],\n",
              "       [6, 7, 8]])"
            ]
          },
          "metadata": {},
          "execution_count": 27
        }
      ]
    },
    {
      "cell_type": "markdown",
      "source": [
        "### 10. Find indices of non-zero elements from [1,2,0,0,4,0] (★☆☆)"
      ],
      "metadata": {
        "id": "wUtdzHU0x9rp"
      }
    },
    {
      "cell_type": "code",
      "source": [
        "vector = np.array([1,2,0,0,4,0]).nonzero()\n",
        "vector"
      ],
      "metadata": {
        "id": "IrwWSL0Vx9zH",
        "colab": {
          "base_uri": "https://localhost:8080/"
        },
        "outputId": "d6d5927d-dcda-49c9-ca05-a7958797526c"
      },
      "execution_count": null,
      "outputs": [
        {
          "output_type": "execute_result",
          "data": {
            "text/plain": [
              "(array([0, 1, 4]),)"
            ]
          },
          "metadata": {},
          "execution_count": 3
        }
      ]
    },
    {
      "cell_type": "markdown",
      "source": [
        "### 11. Create a 3x3 identity matrix (★☆☆)"
      ],
      "metadata": {
        "id": "TbbECZwRx96W"
      }
    },
    {
      "cell_type": "code",
      "source": [
        "matrix = np.eye(3)\n",
        "matrix"
      ],
      "metadata": {
        "id": "et1JGHjmx-BO",
        "colab": {
          "base_uri": "https://localhost:8080/"
        },
        "outputId": "faa77edb-2c14-4c2d-e6c6-4419d44f9d33"
      },
      "execution_count": null,
      "outputs": [
        {
          "output_type": "execute_result",
          "data": {
            "text/plain": [
              "array([[1., 0., 0.],\n",
              "       [0., 1., 0.],\n",
              "       [0., 0., 1.]])"
            ]
          },
          "metadata": {},
          "execution_count": 5
        }
      ]
    },
    {
      "cell_type": "markdown",
      "source": [
        "### 12. Create a 3x3x3 array with random values (★☆☆)"
      ],
      "metadata": {
        "id": "CGRUvfEcx-H_"
      }
    },
    {
      "cell_type": "code",
      "source": [
        "array = np.random.random((3, 3, 3))\n",
        "array"
      ],
      "metadata": {
        "id": "Z8gQLSPox-OW",
        "colab": {
          "base_uri": "https://localhost:8080/"
        },
        "outputId": "38358e97-08d3-4039-bddb-74af887c34fb"
      },
      "execution_count": null,
      "outputs": [
        {
          "output_type": "execute_result",
          "data": {
            "text/plain": [
              "array([[[0.01067912, 0.08560493, 0.08291919],\n",
              "        [0.28235   , 0.49952964, 0.44526742],\n",
              "        [0.77406002, 0.96123385, 0.42222781]],\n",
              "\n",
              "       [[0.75441878, 0.26677654, 0.12996555],\n",
              "        [0.21758155, 0.47827558, 0.41789411],\n",
              "        [0.41126144, 0.64220387, 0.35038418]],\n",
              "\n",
              "       [[0.92150747, 0.14016206, 0.50483088],\n",
              "        [0.48111082, 0.30735431, 0.08915736],\n",
              "        [0.61313201, 0.06432148, 0.37676391]]])"
            ]
          },
          "metadata": {},
          "execution_count": 8
        }
      ]
    },
    {
      "cell_type": "markdown",
      "source": [
        "### 13. Create a 10x10 array with random values and find the minimum and maximum values (★☆☆)"
      ],
      "metadata": {
        "id": "tMRtaXcUyL6l"
      }
    },
    {
      "cell_type": "code",
      "source": [
        "array = np.random.random((10, 10))\n",
        "print(array.max(), array.min())"
      ],
      "metadata": {
        "id": "U0NIJYhryMC9",
        "colab": {
          "base_uri": "https://localhost:8080/"
        },
        "outputId": "02739146-2ce9-4979-8128-26583a7d5a9f"
      },
      "execution_count": null,
      "outputs": [
        {
          "output_type": "stream",
          "name": "stdout",
          "text": [
            "0.997386985102289 0.001499048784727619\n"
          ]
        }
      ]
    },
    {
      "cell_type": "markdown",
      "source": [
        "### 14. Create a random vector of size 30 and find the mean value (★☆☆)"
      ],
      "metadata": {
        "id": "zNbnHHJjyMKF"
      }
    },
    {
      "cell_type": "code",
      "source": [
        "vector = np.random.random(30)\n",
        "vector.mean()"
      ],
      "metadata": {
        "id": "RXMuQcx3yMR9",
        "colab": {
          "base_uri": "https://localhost:8080/"
        },
        "outputId": "215c7d4b-58eb-427c-d077-191601178383"
      },
      "execution_count": null,
      "outputs": [
        {
          "output_type": "execute_result",
          "data": {
            "text/plain": [
              "0.48875348154898324"
            ]
          },
          "metadata": {},
          "execution_count": 15
        }
      ]
    },
    {
      "cell_type": "markdown",
      "source": [
        "### 15. Create a 2d array with 1 on the border and 0 inside (★☆☆)"
      ],
      "metadata": {
        "id": "KQN0z51ayMYm"
      }
    },
    {
      "cell_type": "code",
      "source": [
        "matrix = np.ones([5, 5])\n",
        "matrix[1:-1, 1:-1] = 0\n",
        "matrix"
      ],
      "metadata": {
        "id": "SsAezSI0yMd9",
        "colab": {
          "base_uri": "https://localhost:8080/"
        },
        "outputId": "0643cdc0-7bb2-48e6-8270-725346203be2"
      },
      "execution_count": null,
      "outputs": [
        {
          "output_type": "execute_result",
          "data": {
            "text/plain": [
              "array([[1., 1., 1., 1., 1.],\n",
              "       [1., 0., 0., 0., 1.],\n",
              "       [1., 0., 0., 0., 1.],\n",
              "       [1., 0., 0., 0., 1.],\n",
              "       [1., 1., 1., 1., 1.]])"
            ]
          },
          "metadata": {},
          "execution_count": 63
        }
      ]
    },
    {
      "cell_type": "markdown",
      "source": [
        "### 16. How to add a border (filled with 0's) around an existing array? (★☆☆)"
      ],
      "metadata": {
        "id": "ZZmxl0vEyMkl"
      }
    },
    {
      "cell_type": "code",
      "source": [
        "matrix = np.pad(matrix, pad_width=1, mode='constant', constant_values=0)\n",
        "matrix"
      ],
      "metadata": {
        "id": "R6NHCYM6yMrG",
        "colab": {
          "base_uri": "https://localhost:8080/"
        },
        "outputId": "1abdff4c-6f57-4a59-edd1-66c807d27459"
      },
      "execution_count": null,
      "outputs": [
        {
          "output_type": "execute_result",
          "data": {
            "text/plain": [
              "array([[0., 0., 0., 0., 0., 0., 0.],\n",
              "       [0., 1., 1., 1., 1., 1., 0.],\n",
              "       [0., 1., 0., 0., 0., 1., 0.],\n",
              "       [0., 1., 0., 0., 0., 1., 0.],\n",
              "       [0., 1., 0., 0., 0., 1., 0.],\n",
              "       [0., 1., 1., 1., 1., 1., 0.],\n",
              "       [0., 0., 0., 0., 0., 0., 0.]])"
            ]
          },
          "metadata": {},
          "execution_count": 64
        }
      ]
    },
    {
      "cell_type": "markdown",
      "source": [
        "### 17. What is the result of the following expression? (★☆☆)\n",
        "\n",
        "0 * np.nan\n",
        "\n",
        "np.nan == np.nan\n",
        "\n",
        "np.inf > np.nan\n",
        "\n",
        "np.nan - np.nan\n",
        "\n",
        "np.nan in set([np.nan])\n",
        "\n",
        "0.3 == 3 * 0.1"
      ],
      "metadata": {
        "id": "0gvdWcvIyMxE"
      }
    },
    {
      "cell_type": "code",
      "source": [
        "0 * np.nan #np.nan\n",
        "np.nan == np.nan #False\n",
        "np.inf > np.nan #False\n",
        "np.nan - np.nan #nan\n",
        "np.nan in set([np.nan]) #True\n",
        "0.3 == 3 * 0.1 #False"
      ],
      "metadata": {
        "id": "HuFJa-HJyM2e",
        "colab": {
          "base_uri": "https://localhost:8080/"
        },
        "outputId": "21133574-8ac8-47cd-f3ac-493abe88307e"
      },
      "execution_count": null,
      "outputs": [
        {
          "output_type": "execute_result",
          "data": {
            "text/plain": [
              "False"
            ]
          },
          "metadata": {},
          "execution_count": 71
        }
      ]
    },
    {
      "cell_type": "markdown",
      "source": [
        "### 18. Create a 5x5 matrix with values 1,2,3,4 just below the diagonal (★☆☆)"
      ],
      "metadata": {
        "id": "mUYPf7qdyM9M"
      }
    },
    {
      "cell_type": "code",
      "source": [
        "matrix = np.diag(range(1, 5), k=-1)\n",
        "matrix"
      ],
      "metadata": {
        "id": "9ZW2lHfXyNC-",
        "colab": {
          "base_uri": "https://localhost:8080/"
        },
        "outputId": "07e0ebf3-4fef-40b2-f10d-57b5a66a1229"
      },
      "execution_count": null,
      "outputs": [
        {
          "output_type": "execute_result",
          "data": {
            "text/plain": [
              "array([[0, 0, 0, 0, 0],\n",
              "       [1, 0, 0, 0, 0],\n",
              "       [0, 2, 0, 0, 0],\n",
              "       [0, 0, 3, 0, 0],\n",
              "       [0, 0, 0, 4, 0]])"
            ]
          },
          "metadata": {},
          "execution_count": 105
        }
      ]
    },
    {
      "cell_type": "markdown",
      "source": [
        "### 19. Create a 8x8 matrix and fill it with a checkerboard pattern (★☆☆)"
      ],
      "metadata": {
        "id": "YUKi6seByNI9"
      }
    },
    {
      "cell_type": "code",
      "source": [
        "matrix = np.zeros([8, 8])\n",
        "matrix[::2, ::2] = 1\n",
        "matrix[1::2, 1::2] = 1\n",
        "matrix"
      ],
      "metadata": {
        "id": "uacloDrTyNQU",
        "colab": {
          "base_uri": "https://localhost:8080/"
        },
        "outputId": "a9758986-a7ad-4679-d13d-2f9118677175"
      },
      "execution_count": null,
      "outputs": [
        {
          "output_type": "execute_result",
          "data": {
            "text/plain": [
              "array([[1., 0., 1., 0., 1., 0., 1., 0.],\n",
              "       [0., 1., 0., 1., 0., 1., 0., 1.],\n",
              "       [1., 0., 1., 0., 1., 0., 1., 0.],\n",
              "       [0., 1., 0., 1., 0., 1., 0., 1.],\n",
              "       [1., 0., 1., 0., 1., 0., 1., 0.],\n",
              "       [0., 1., 0., 1., 0., 1., 0., 1.],\n",
              "       [1., 0., 1., 0., 1., 0., 1., 0.],\n",
              "       [0., 1., 0., 1., 0., 1., 0., 1.]])"
            ]
          },
          "metadata": {},
          "execution_count": 110
        }
      ]
    },
    {
      "cell_type": "markdown",
      "source": [
        "### 20. Consider a (6,7,8) shape array, what is the index (x,y,z) of the 100th element? (★☆☆)"
      ],
      "metadata": {
        "id": "CpJvOfaxyNWe"
      }
    },
    {
      "cell_type": "code",
      "source": [
        "np.unravel_index(100, [6, 7, 8])"
      ],
      "metadata": {
        "id": "XqccK4wQyNdP",
        "colab": {
          "base_uri": "https://localhost:8080/"
        },
        "outputId": "85ff5ba9-1d54-4a54-d135-5d3addfdea53"
      },
      "execution_count": null,
      "outputs": [
        {
          "output_type": "execute_result",
          "data": {
            "text/plain": [
              "(1, 5, 4)"
            ]
          },
          "metadata": {},
          "execution_count": 119
        }
      ]
    },
    {
      "cell_type": "markdown",
      "source": [
        "### 21. Create a checkerboard 8x8 matrix using the tile function (★☆☆)"
      ],
      "metadata": {
        "id": "KkTE5HukyNkB"
      }
    },
    {
      "cell_type": "code",
      "source": [
        "matrix = np.tile(([1, 0], [0, 1]), (4, 4))\n",
        "matrix"
      ],
      "metadata": {
        "id": "EIIHGj9ZyNpu",
        "colab": {
          "base_uri": "https://localhost:8080/"
        },
        "outputId": "1a619cf3-5547-4ad5-9bb7-4355d82b932a"
      },
      "execution_count": null,
      "outputs": [
        {
          "output_type": "execute_result",
          "data": {
            "text/plain": [
              "array([[1, 0, 1, 0, 1, 0, 1, 0],\n",
              "       [0, 1, 0, 1, 0, 1, 0, 1],\n",
              "       [1, 0, 1, 0, 1, 0, 1, 0],\n",
              "       [0, 1, 0, 1, 0, 1, 0, 1],\n",
              "       [1, 0, 1, 0, 1, 0, 1, 0],\n",
              "       [0, 1, 0, 1, 0, 1, 0, 1],\n",
              "       [1, 0, 1, 0, 1, 0, 1, 0],\n",
              "       [0, 1, 0, 1, 0, 1, 0, 1]])"
            ]
          },
          "metadata": {},
          "execution_count": 127
        }
      ]
    },
    {
      "cell_type": "markdown",
      "source": [
        "### 22. Normalize a 5x5 random matrix (★☆☆)"
      ],
      "metadata": {
        "id": "yBKpzZzFyNvc"
      }
    },
    {
      "cell_type": "code",
      "source": [
        "matrix = np.random.random([5, 5])\n",
        "matrix = (matrix - matrix.mean()) / matrix.std()\n",
        "matrix"
      ],
      "metadata": {
        "id": "LivnujB_yN1F",
        "colab": {
          "base_uri": "https://localhost:8080/"
        },
        "outputId": "8c4f3189-1fd5-4d3c-96e1-4dfd722551aa"
      },
      "execution_count": null,
      "outputs": [
        {
          "output_type": "execute_result",
          "data": {
            "text/plain": [
              "array([[-1.34838209,  0.05534107, -0.20981547, -1.62580384, -0.08959229],\n",
              "       [-1.61496852, -1.13987183,  1.20339112, -0.11105964,  1.03810664],\n",
              "       [-1.62813271, -0.23769599,  0.96489645,  0.88249767,  1.37930551],\n",
              "       [-0.45483572,  1.31554363,  0.09586994,  0.73807321, -0.69671669],\n",
              "       [-0.87366304,  0.5751203 , -0.70363115,  1.4192458 ,  1.06677764]])"
            ]
          },
          "metadata": {},
          "execution_count": 132
        }
      ]
    },
    {
      "cell_type": "markdown",
      "source": [
        "### 23. Create a custom dtype that describes a color as four unsigned bytes (RGBA) (★☆☆)"
      ],
      "metadata": {
        "id": "SvRxOotXyN7v"
      }
    },
    {
      "cell_type": "code",
      "source": [
        "color = np.dtype([(\"r\", np.ubyte, 1), (\"g\", np.ubyte, 1), (\"b\", np.ubyte, 1)])\n",
        "color"
      ],
      "metadata": {
        "id": "iHzwUONkyOCN",
        "colab": {
          "base_uri": "https://localhost:8080/"
        },
        "outputId": "c0f8c17c-a4e3-4c79-fd7a-484506e3524a"
      },
      "execution_count": null,
      "outputs": [
        {
          "output_type": "stream",
          "name": "stderr",
          "text": [
            "/usr/local/lib/python3.7/dist-packages/ipykernel_launcher.py:1: FutureWarning: Passing (type, 1) or '1type' as a synonym of type is deprecated; in a future version of numpy, it will be understood as (type, (1,)) / '(1,)type'.\n",
            "  \"\"\"Entry point for launching an IPython kernel.\n"
          ]
        },
        {
          "output_type": "execute_result",
          "data": {
            "text/plain": [
              "dtype([('r', 'u1'), ('g', 'u1'), ('b', 'u1')])"
            ]
          },
          "metadata": {},
          "execution_count": 134
        }
      ]
    },
    {
      "cell_type": "markdown",
      "source": [
        "### 24. Multiply a 5x3 matrix by a 3x2 matrix (real matrix product) (★☆☆)"
      ],
      "metadata": {
        "id": "kghaXdhFyOKk"
      }
    },
    {
      "cell_type": "code",
      "source": [
        "m1 = np.random.random([5, 3])\n",
        "m2 = np.random.random([3, 2])\n",
        "m1 @ m2"
      ],
      "metadata": {
        "id": "oniMXK7hyOSW",
        "colab": {
          "base_uri": "https://localhost:8080/"
        },
        "outputId": "f083497d-1a38-4817-a854-f83e6b917d38"
      },
      "execution_count": null,
      "outputs": [
        {
          "output_type": "execute_result",
          "data": {
            "text/plain": [
              "array([[0.50564136, 0.69810369],\n",
              "       [0.76010391, 0.74490999],\n",
              "       [1.35605956, 1.21708221],\n",
              "       [1.031379  , 0.6369577 ],\n",
              "       [1.17766124, 1.27132686]])"
            ]
          },
          "metadata": {},
          "execution_count": 169
        }
      ]
    },
    {
      "cell_type": "markdown",
      "source": [
        "### 25. Given a 1D array, negate all elements which are between 3 and 8, in place. (★☆☆)"
      ],
      "metadata": {
        "id": "h62pEOK9yOY9"
      }
    },
    {
      "cell_type": "code",
      "source": [
        "array = np.arange(10)\n",
        "array[4:8] *= -1\n",
        "array"
      ],
      "metadata": {
        "id": "UWTq-Ad0yOfZ",
        "colab": {
          "base_uri": "https://localhost:8080/"
        },
        "outputId": "2ecafc7e-a96d-49c3-b101-ed6d057556e3"
      },
      "execution_count": null,
      "outputs": [
        {
          "output_type": "execute_result",
          "data": {
            "text/plain": [
              "array([ 0,  1,  2,  3, -4, -5, -6, -7,  8,  9])"
            ]
          },
          "metadata": {},
          "execution_count": 168
        }
      ]
    },
    {
      "cell_type": "markdown",
      "source": [
        "### 26. What is the output of the following script? (★☆☆)\n",
        "\n",
        "print(sum(range(5),-1))"
      ],
      "metadata": {
        "id": "6fhXyhWPyOlo"
      }
    },
    {
      "cell_type": "code",
      "source": [
        "print(sum(range(5),-1)) #0 + 1 + 2 + 3 + 4"
      ],
      "metadata": {
        "id": "EO3MknIryOr1",
        "colab": {
          "base_uri": "https://localhost:8080/"
        },
        "outputId": "f4470162-ed45-4c56-ad7e-d253f5956960"
      },
      "execution_count": null,
      "outputs": [
        {
          "output_type": "stream",
          "name": "stdout",
          "text": [
            "10\n"
          ]
        }
      ]
    },
    {
      "cell_type": "markdown",
      "source": [
        "### 27. Consider an integer vector Z, which of these expressions are legal? (★☆☆)\n",
        "\n",
        "Z**Z\n",
        "\n",
        "2 << Z >> 2\n",
        "\n",
        "Z <- Z\n",
        "\n",
        "1j*Z\n",
        "\n",
        "Z/1/1\n",
        "\n",
        "Z<Z>Z"
      ],
      "metadata": {
        "id": "uPpSynhoyOxs"
      }
    },
    {
      "cell_type": "code",
      "source": [
        "#Is legal:\n",
        "#Z**Z\n",
        "#2 << Z >> 2\n",
        "#Z <- Z\n",
        "#1j*Z\n",
        "#Z/1/1"
      ],
      "metadata": {
        "id": "iLET9QUWyO4V"
      },
      "execution_count": null,
      "outputs": []
    },
    {
      "cell_type": "markdown",
      "source": [
        "### 28. What are the result of the following expressions? (★☆☆)\n",
        "\n",
        "np.array(0) / np.array(0)\n",
        "\n",
        "np.array(0) // np.array(0)\n",
        "\n",
        "np.array([np.nan]).astype(int).astype(float)"
      ],
      "metadata": {
        "id": "qpqsLoynyO-c"
      }
    },
    {
      "cell_type": "code",
      "source": [
        "np.array(0) / np.array(0) #error\n",
        "np.array(0) // np.array(0) #0\n",
        "np.array([np.nan]).astype(int).astype(float) #numpy.ndarray([float])"
      ],
      "metadata": {
        "id": "dM7j3t-nyPEc",
        "colab": {
          "base_uri": "https://localhost:8080/"
        },
        "outputId": "b934aa78-4332-4f42-9930-c462f08f984b"
      },
      "execution_count": null,
      "outputs": [
        {
          "output_type": "stream",
          "name": "stderr",
          "text": [
            "/usr/local/lib/python3.7/dist-packages/ipykernel_launcher.py:1: RuntimeWarning: invalid value encountered in true_divide\n",
            "  \"\"\"Entry point for launching an IPython kernel.\n",
            "/usr/local/lib/python3.7/dist-packages/ipykernel_launcher.py:2: RuntimeWarning: divide by zero encountered in floor_divide\n",
            "  \n"
          ]
        },
        {
          "output_type": "execute_result",
          "data": {
            "text/plain": [
              "array([-9.22337204e+18])"
            ]
          },
          "metadata": {},
          "execution_count": 159
        }
      ]
    },
    {
      "cell_type": "markdown",
      "source": [
        "### 29. How to round away from zero a float array ? (★☆☆)"
      ],
      "metadata": {
        "id": "oN-CdnJgyPJ1"
      }
    },
    {
      "cell_type": "code",
      "source": [
        "a = np.array([0.58, 0.333, 0.237])\n",
        "np.round(a, 1)"
      ],
      "metadata": {
        "id": "dycZc7bxyPPs",
        "colab": {
          "base_uri": "https://localhost:8080/"
        },
        "outputId": "88313de3-1573-4187-bf5a-e76dc4030b22"
      },
      "execution_count": null,
      "outputs": [
        {
          "output_type": "execute_result",
          "data": {
            "text/plain": [
              "array([0.6, 0.3, 0.2])"
            ]
          },
          "metadata": {},
          "execution_count": 182
        }
      ]
    },
    {
      "cell_type": "markdown",
      "source": [
        "### 30. How to find common values between two arrays? (★☆☆)"
      ],
      "metadata": {
        "id": "1AjRzY2ryPWM"
      }
    },
    {
      "cell_type": "code",
      "source": [
        "a = np.array([0, 2, 3, 4])\n",
        "b = np.array([1, 2, 3, 4, 5])\n",
        "np.intersect1d(a, b)"
      ],
      "metadata": {
        "id": "3Q8nJQuXyPb1",
        "colab": {
          "base_uri": "https://localhost:8080/"
        },
        "outputId": "c360e1d0-f6ed-4fa7-834c-e6c337ffdfe4"
      },
      "execution_count": null,
      "outputs": [
        {
          "output_type": "execute_result",
          "data": {
            "text/plain": [
              "array([2, 3, 4])"
            ]
          },
          "metadata": {},
          "execution_count": 185
        }
      ]
    },
    {
      "cell_type": "markdown",
      "source": [
        "### 31. How to ignore all numpy warnings (not recommended)? (★☆☆)"
      ],
      "metadata": {
        "id": "F4jX6OoDyPiM"
      }
    },
    {
      "cell_type": "code",
      "source": [
        "np.seterr(all=\"ignore\")"
      ],
      "metadata": {
        "id": "j-3RhZNoyPoc",
        "colab": {
          "base_uri": "https://localhost:8080/"
        },
        "outputId": "b7927838-d510-4bf4-b68a-5a53f65fca87"
      },
      "execution_count": null,
      "outputs": [
        {
          "output_type": "execute_result",
          "data": {
            "text/plain": [
              "{'divide': 'ignore', 'over': 'ignore', 'under': 'ignore', 'invalid': 'ignore'}"
            ]
          },
          "metadata": {},
          "execution_count": 192
        }
      ]
    },
    {
      "cell_type": "markdown",
      "source": [
        "### 32. Is the following expressions true? (★☆☆)\n",
        "\n",
        "np.sqrt(-1) == np.emath.sqrt(-1)"
      ],
      "metadata": {
        "id": "tx9qZKsHyPuc"
      }
    },
    {
      "cell_type": "code",
      "source": [
        "np.sqrt(-1) == np.emath.sqrt(-1)"
      ],
      "metadata": {
        "id": "snEjfJQXyP1c",
        "colab": {
          "base_uri": "https://localhost:8080/"
        },
        "outputId": "191f223a-34aa-4514-9858-7897484ecd08"
      },
      "execution_count": null,
      "outputs": [
        {
          "output_type": "execute_result",
          "data": {
            "text/plain": [
              "False"
            ]
          },
          "metadata": {},
          "execution_count": 198
        }
      ]
    },
    {
      "cell_type": "markdown",
      "source": [
        "### 33. How to get the dates of yesterday, today and tomorrow? (★☆☆)"
      ],
      "metadata": {
        "id": "r1XY1cKTyP7l"
      }
    },
    {
      "cell_type": "code",
      "source": [
        "today = np.Datetime64('today')\n",
        "yesterday = today - np.timedelta64('1')\n",
        "tomorrow = today + np.timedelta64('1')\n",
        "print(\"Сегодня: \", today, \"\\nВчера: \", yesterday, \"\\nЗавтра: \", tomorrow)"
      ],
      "metadata": {
        "id": "sBgtDckEyQDH",
        "colab": {
          "base_uri": "https://localhost:8080/"
        },
        "outputId": "0288bc49-9ab2-49da-ea24-7ca4766315c2"
      },
      "execution_count": null,
      "outputs": [
        {
          "output_type": "stream",
          "name": "stdout",
          "text": [
            "Сегодня:  2022-10-25 \n",
            "Вчера:  2022-10-24 \n",
            "Завтра:  2022-10-26\n"
          ]
        }
      ]
    },
    {
      "cell_type": "markdown",
      "source": [
        "### 34. How to get all the dates corresponding to the month of July 2016? (★★☆)"
      ],
      "metadata": {
        "id": "AhhX7OfmyQJ1"
      }
    },
    {
      "cell_type": "code",
      "source": [
        "print(np.arange('2016-07', '2016-08', dtype='datetime64[D]'))"
      ],
      "metadata": {
        "id": "zTYx0ohmyQP5",
        "colab": {
          "base_uri": "https://localhost:8080/"
        },
        "outputId": "66c9436b-99a0-45c7-f1e5-486eeb480421"
      },
      "execution_count": null,
      "outputs": [
        {
          "output_type": "stream",
          "name": "stdout",
          "text": [
            "['2016-07-01' '2016-07-02' '2016-07-03' '2016-07-04' '2016-07-05'\n",
            " '2016-07-06' '2016-07-07' '2016-07-08' '2016-07-09' '2016-07-10'\n",
            " '2016-07-11' '2016-07-12' '2016-07-13' '2016-07-14' '2016-07-15'\n",
            " '2016-07-16' '2016-07-17' '2016-07-18' '2016-07-19' '2016-07-20'\n",
            " '2016-07-21' '2016-07-22' '2016-07-23' '2016-07-24' '2016-07-25'\n",
            " '2016-07-26' '2016-07-27' '2016-07-28' '2016-07-29' '2016-07-30'\n",
            " '2016-07-31']\n"
          ]
        }
      ]
    },
    {
      "cell_type": "markdown",
      "source": [
        "### 35. How to compute ((A+B)*(-A/2)) in place (without copy)? (★★☆)"
      ],
      "metadata": {
        "id": "d3ecF0DMyQW0"
      }
    },
    {
      "cell_type": "code",
      "source": [
        "A = np.eye(2)\n",
        "B = np.eye(2)\n",
        "np.add(A, B, out=B)\n",
        "np.divide(A, -2, out=A)\n",
        "np.multiply(A, B, out=A)\n",
        "A"
      ],
      "metadata": {
        "id": "jQJUg9OKyQhF",
        "colab": {
          "base_uri": "https://localhost:8080/"
        },
        "outputId": "8293257a-7984-4336-974e-c23b2374d6d0"
      },
      "execution_count": null,
      "outputs": [
        {
          "output_type": "execute_result",
          "data": {
            "text/plain": [
              "array([[-1., -0.],\n",
              "       [-0., -1.]])"
            ]
          },
          "metadata": {},
          "execution_count": 211
        }
      ]
    },
    {
      "cell_type": "markdown",
      "source": [
        "### 36. Extract the integer part of a random array of positive numbers using 4 different methods (★★☆)"
      ],
      "metadata": {
        "id": "vXcIegk5yQoc"
      }
    },
    {
      "cell_type": "code",
      "source": [
        "array = np.random.uniform(0, 10, 10)\n",
        "print(array // 1)\n",
        "print(np.floor(array))\n",
        "print(array.astype(int))\n",
        "print(np.trunc(array))"
      ],
      "metadata": {
        "id": "-ZraMQDEyQvF",
        "colab": {
          "base_uri": "https://localhost:8080/"
        },
        "outputId": "b1fa8d0c-0106-4309-cb79-269e3803bc38"
      },
      "execution_count": null,
      "outputs": [
        {
          "output_type": "stream",
          "name": "stdout",
          "text": [
            "[6. 5. 1. 8. 3. 6. 2. 1. 6. 3.]\n",
            "[6. 5. 1. 8. 3. 6. 2. 1. 6. 3.]\n",
            "[6 5 1 8 3 6 2 1 6 3]\n",
            "[6. 5. 1. 8. 3. 6. 2. 1. 6. 3.]\n"
          ]
        }
      ]
    },
    {
      "cell_type": "markdown",
      "source": [
        "### 37. Create a 5x5 matrix with row values ranging from 0 to 4 (★★☆)"
      ],
      "metadata": {
        "id": "4rFhREx_yQ11"
      }
    },
    {
      "cell_type": "code",
      "source": [
        "matrix = np.zeros([5, 5]) + np.arange(5)\n",
        "matrix"
      ],
      "metadata": {
        "id": "7T9x5BG8yQ80",
        "colab": {
          "base_uri": "https://localhost:8080/"
        },
        "outputId": "73ca3c26-d77d-4ae9-8831-5e617a85e2b1"
      },
      "execution_count": null,
      "outputs": [
        {
          "output_type": "execute_result",
          "data": {
            "text/plain": [
              "array([[0., 1., 2., 3., 4.],\n",
              "       [0., 1., 2., 3., 4.],\n",
              "       [0., 1., 2., 3., 4.],\n",
              "       [0., 1., 2., 3., 4.],\n",
              "       [0., 1., 2., 3., 4.]])"
            ]
          },
          "metadata": {},
          "execution_count": 234
        }
      ]
    },
    {
      "cell_type": "markdown",
      "source": [
        "### 38. Consider a generator function that generates 10 integers and use it to build an array (★☆☆)"
      ],
      "metadata": {
        "id": "w9v9yHcuyRDW"
      }
    },
    {
      "cell_type": "code",
      "source": [
        "def generate():\n",
        "    for x in range(10):\n",
        "        yield x\n",
        "        \n",
        "Z = np.fromiter(generate(),dtype=float,count=-1)\n",
        "print(Z)"
      ],
      "metadata": {
        "id": "-dKJh7sLyRJk",
        "colab": {
          "base_uri": "https://localhost:8080/"
        },
        "outputId": "8ee163c8-ce55-418a-a462-f7cb87c6080c"
      },
      "execution_count": null,
      "outputs": [
        {
          "output_type": "stream",
          "name": "stdout",
          "text": [
            "[0. 1. 2. 3. 4. 5. 6. 7. 8. 9.]\n"
          ]
        }
      ]
    },
    {
      "cell_type": "markdown",
      "source": [
        "### 39. Create a vector of size 10 with values ranging from 0 to 1, both excluded (★★☆)"
      ],
      "metadata": {
        "id": "hWJ1SUSEyRQN"
      }
    },
    {
      "cell_type": "code",
      "source": [
        "vector = np.linspace(0, 1, 11, endpoint=False)[1:]\n",
        "vector"
      ],
      "metadata": {
        "id": "9EQ1DOIMyRWd",
        "colab": {
          "base_uri": "https://localhost:8080/"
        },
        "outputId": "4ab43d2f-1901-4db6-e783-4dba36a41b3b"
      },
      "execution_count": null,
      "outputs": [
        {
          "output_type": "execute_result",
          "data": {
            "text/plain": [
              "array([0.09090909, 0.18181818, 0.27272727, 0.36363636, 0.45454545,\n",
              "       0.54545455, 0.63636364, 0.72727273, 0.81818182, 0.90909091])"
            ]
          },
          "metadata": {},
          "execution_count": 239
        }
      ]
    },
    {
      "cell_type": "markdown",
      "source": [
        "### 40. Create a random vector of size 10 and sort it (★★☆)"
      ],
      "metadata": {
        "id": "JUqYAYQqyRdd"
      }
    },
    {
      "cell_type": "code",
      "source": [],
      "metadata": {
        "id": "wl-C5qm6yRi_"
      },
      "execution_count": null,
      "outputs": []
    },
    {
      "cell_type": "markdown",
      "source": [
        "### 41. How to sum a small array faster than np.sum? (★★☆)"
      ],
      "metadata": {
        "id": "jMyIISGgyRpo"
      }
    },
    {
      "cell_type": "code",
      "source": [],
      "metadata": {
        "id": "gXrXCm3WyRuV"
      },
      "execution_count": null,
      "outputs": []
    },
    {
      "cell_type": "markdown",
      "source": [
        "### 42. Consider two random array A and B, check if they are equal (★★☆)"
      ],
      "metadata": {
        "id": "56akxURoyR0V"
      }
    },
    {
      "cell_type": "code",
      "source": [],
      "metadata": {
        "id": "XtzQy4s6yR5u"
      },
      "execution_count": null,
      "outputs": []
    },
    {
      "cell_type": "markdown",
      "source": [
        "### 43. Make an array immutable (read-only) (★★☆)"
      ],
      "metadata": {
        "id": "ZkONWeoyySAW"
      }
    },
    {
      "cell_type": "code",
      "source": [],
      "metadata": {
        "id": "ieR-RwcpySH8"
      },
      "execution_count": null,
      "outputs": []
    },
    {
      "cell_type": "markdown",
      "source": [
        "### 44. Consider a random 10x2 matrix representing cartesian coordinates, convert them to polar coordinates (★★☆)"
      ],
      "metadata": {
        "id": "moAuR0CiySOk"
      }
    },
    {
      "cell_type": "code",
      "source": [],
      "metadata": {
        "id": "tmalbKrJySVX"
      },
      "execution_count": null,
      "outputs": []
    },
    {
      "cell_type": "markdown",
      "source": [
        "### 45. Create random vector of size 10 and replace the maximum value by 0 (★★☆)"
      ],
      "metadata": {
        "id": "vp3S2_MbySbw"
      }
    },
    {
      "cell_type": "code",
      "source": [],
      "metadata": {
        "id": "rfatSkctySiN"
      },
      "execution_count": null,
      "outputs": []
    },
    {
      "cell_type": "markdown",
      "source": [
        "### 46. Create a structured array with x and y coordinates covering the [0,1]x[0,1] area (★★☆)"
      ],
      "metadata": {
        "id": "nzK14Xy1yur4"
      }
    },
    {
      "cell_type": "code",
      "source": [],
      "metadata": {
        "id": "-4V8ESwTyuxY"
      },
      "execution_count": null,
      "outputs": []
    },
    {
      "cell_type": "markdown",
      "source": [
        "### 47. Given two arrays, X and Y, construct the Cauchy matrix C (Cij =1/(xi - yj)) (★★☆)"
      ],
      "metadata": {
        "id": "gjomwr_0yu2M"
      }
    },
    {
      "cell_type": "code",
      "source": [],
      "metadata": {
        "id": "5b83TqVryu-L"
      },
      "execution_count": null,
      "outputs": []
    },
    {
      "cell_type": "markdown",
      "source": [
        "### 48. Print the minimum and maximum representable value for each numpy scalar type (★★☆)"
      ],
      "metadata": {
        "id": "qubO0dx5yvGD"
      }
    },
    {
      "cell_type": "code",
      "source": [],
      "metadata": {
        "id": "lUxN-iJbyvL8"
      },
      "execution_count": null,
      "outputs": []
    },
    {
      "cell_type": "markdown",
      "source": [
        "### 49. How to print all the values of an array? (★★☆)"
      ],
      "metadata": {
        "id": "CyCeC4pyyvSM"
      }
    },
    {
      "cell_type": "code",
      "source": [],
      "metadata": {
        "id": "22X_UCLoyvX1"
      },
      "execution_count": null,
      "outputs": []
    },
    {
      "cell_type": "markdown",
      "source": [
        "### 50. How to find the closest value (to a given scalar) in a vector? (★★☆)"
      ],
      "metadata": {
        "id": "0SDKmRt-yvdP"
      }
    },
    {
      "cell_type": "code",
      "source": [],
      "metadata": {
        "id": "7ugbGK8Iyvk0"
      },
      "execution_count": null,
      "outputs": []
    },
    {
      "cell_type": "markdown",
      "source": [
        "### 51. Create a structured array representing a position (x,y) and a color (r,g,b) (★★☆)"
      ],
      "metadata": {
        "id": "y3bL51Layvuz"
      }
    },
    {
      "cell_type": "code",
      "source": [],
      "metadata": {
        "id": "Aaaj_oG0yv0k"
      },
      "execution_count": null,
      "outputs": []
    },
    {
      "cell_type": "markdown",
      "source": [
        "### 52. Consider a random vector with shape (100,2) representing coordinates, find point by point distances (★★☆)"
      ],
      "metadata": {
        "id": "8i7njBRDyv7L"
      }
    },
    {
      "cell_type": "code",
      "source": [],
      "metadata": {
        "id": "kE3nY4k2ywBk"
      },
      "execution_count": null,
      "outputs": []
    },
    {
      "cell_type": "markdown",
      "source": [
        "### 53. How to convert a float (32 bits) array into an integer (32 bits) in place?"
      ],
      "metadata": {
        "id": "29vGW-anywH7"
      }
    },
    {
      "cell_type": "code",
      "source": [],
      "metadata": {
        "id": "94tJqlK7ywOo"
      },
      "execution_count": null,
      "outputs": []
    },
    {
      "cell_type": "markdown",
      "source": [
        "### 54. How to read the following file? (★★☆)\n",
        "\n",
        "1, 2, 3, 4, 5\n",
        "\n",
        "6,  ,  , 7, 8\n",
        "\n",
        " ,  , 9,10,11"
      ],
      "metadata": {
        "id": "OzWtZYAXywU1"
      }
    },
    {
      "cell_type": "code",
      "source": [],
      "metadata": {
        "id": "mBEOAKDUywbL"
      },
      "execution_count": null,
      "outputs": []
    },
    {
      "cell_type": "markdown",
      "source": [
        "### 55. What is the equivalent of enumerate for numpy arrays? (★★☆)"
      ],
      "metadata": {
        "id": "YCv-0vl6ywvz"
      }
    },
    {
      "cell_type": "code",
      "source": [],
      "metadata": {
        "id": "21hSn4pryw2E"
      },
      "execution_count": null,
      "outputs": []
    },
    {
      "cell_type": "markdown",
      "source": [
        "### 56. Generate a generic 2D Gaussian-like array (★★☆)"
      ],
      "metadata": {
        "id": "E_J53n851UgM"
      }
    },
    {
      "cell_type": "code",
      "source": [],
      "metadata": {
        "id": "G1QJiihh1Un-"
      },
      "execution_count": null,
      "outputs": []
    },
    {
      "cell_type": "markdown",
      "source": [
        "### 57. How to randomly place p elements in a 2D array? (★★☆)"
      ],
      "metadata": {
        "id": "M5p20L__1Usz"
      }
    },
    {
      "cell_type": "code",
      "source": [],
      "metadata": {
        "id": "XXcr7_yV1UyK"
      },
      "execution_count": null,
      "outputs": []
    },
    {
      "cell_type": "markdown",
      "source": [
        "### 58. Subtract the mean of each row of a matrix (★★☆)"
      ],
      "metadata": {
        "id": "x8iwBUZE1U27"
      }
    },
    {
      "cell_type": "code",
      "source": [],
      "metadata": {
        "id": "7-rGToGZ1U78"
      },
      "execution_count": null,
      "outputs": []
    },
    {
      "cell_type": "markdown",
      "source": [
        "### 59. How to sort an array by the nth column? (★★☆)"
      ],
      "metadata": {
        "id": "VqOdRMTg1VBF"
      }
    },
    {
      "cell_type": "code",
      "source": [],
      "metadata": {
        "id": "ed2kAgT31VFd"
      },
      "execution_count": null,
      "outputs": []
    },
    {
      "cell_type": "markdown",
      "source": [
        "### 60. How to tell if a given 2D array has null columns? (★★☆)"
      ],
      "metadata": {
        "id": "D9iQ8iF31Vzb"
      }
    },
    {
      "cell_type": "code",
      "source": [],
      "metadata": {
        "id": "WdJjPHad1V5s"
      },
      "execution_count": null,
      "outputs": []
    },
    {
      "cell_type": "markdown",
      "source": [
        "### 61. Find the nearest value from a given value in an array (★★☆)"
      ],
      "metadata": {
        "id": "re_xbNW-1fKB"
      }
    },
    {
      "cell_type": "code",
      "source": [],
      "metadata": {
        "id": "ROjhvksO1fPi"
      },
      "execution_count": null,
      "outputs": []
    },
    {
      "cell_type": "markdown",
      "source": [
        "### 62. Considering two arrays with shape (1,3) and (3,1), how to compute their sum using an iterator? (★★☆)"
      ],
      "metadata": {
        "id": "X4sBao8p1fUK"
      }
    },
    {
      "cell_type": "code",
      "source": [],
      "metadata": {
        "id": "0KNBqTMv1fZY"
      },
      "execution_count": null,
      "outputs": []
    },
    {
      "cell_type": "markdown",
      "source": [
        "### 63. Create an array class that has a name attribute (★★☆)"
      ],
      "metadata": {
        "id": "lI3mwNxw1feM"
      }
    },
    {
      "cell_type": "code",
      "source": [],
      "metadata": {
        "id": "LTDTwra91fji"
      },
      "execution_count": null,
      "outputs": []
    },
    {
      "cell_type": "markdown",
      "source": [
        "### 64. Consider a given vector, how to add 1 to each element indexed by a second vector (be careful with repeated indices)? (★★★)"
      ],
      "metadata": {
        "id": "C9BmgjrT1foD"
      }
    },
    {
      "cell_type": "code",
      "source": [],
      "metadata": {
        "id": "cAb0BWug1ftU"
      },
      "execution_count": null,
      "outputs": []
    },
    {
      "cell_type": "markdown",
      "source": [
        "### 65. How to accumulate elements of a vector (X) to an array (F) based on an index list (I)? (★★★)"
      ],
      "metadata": {
        "id": "ADNW9BRK1fyj"
      }
    },
    {
      "cell_type": "code",
      "source": [],
      "metadata": {
        "id": "D5vBFXG_1f3m"
      },
      "execution_count": null,
      "outputs": []
    },
    {
      "cell_type": "markdown",
      "source": [
        "### 66. Considering a (w,h,3) image of (dtype=ubyte), compute the number of unique colors (★★☆)"
      ],
      "metadata": {
        "id": "HSuusQds1f9E"
      }
    },
    {
      "cell_type": "code",
      "source": [],
      "metadata": {
        "id": "qKCNu2X91gCz"
      },
      "execution_count": null,
      "outputs": []
    },
    {
      "cell_type": "markdown",
      "source": [
        "### 67. Considering a four dimensions array, how to get sum over the last two axis at once? (★★★)"
      ],
      "metadata": {
        "id": "TTLfSQrq1gHN"
      }
    },
    {
      "cell_type": "code",
      "source": [],
      "metadata": {
        "id": "YPlvaWp_1gM0"
      },
      "execution_count": null,
      "outputs": []
    },
    {
      "cell_type": "markdown",
      "source": [
        "### 68. Considering a one-dimensional vector D, how to compute means of subsets of D using a vector S of same size describing subset indices? (★★★)"
      ],
      "metadata": {
        "id": "5Ur1Aaxs1gSr"
      }
    },
    {
      "cell_type": "code",
      "source": [],
      "metadata": {
        "id": "Zeov0fd11gXa"
      },
      "execution_count": null,
      "outputs": []
    },
    {
      "cell_type": "markdown",
      "source": [
        "### 69. How to get the diagonal of a dot product? (★★★)"
      ],
      "metadata": {
        "id": "gM-awwGl1gdM"
      }
    },
    {
      "cell_type": "code",
      "source": [],
      "metadata": {
        "id": "B9j4BCdq1gkl"
      },
      "execution_count": null,
      "outputs": []
    },
    {
      "cell_type": "markdown",
      "source": [
        "### 70. Consider the vector [1, 2, 3, 4, 5], how to build a new vector with 3 consecutive zeros interleaved between each value? (★★★)"
      ],
      "metadata": {
        "id": "jfaeIOyg1gpK"
      }
    },
    {
      "cell_type": "code",
      "source": [],
      "metadata": {
        "id": "pKEMaDEf1hDQ"
      },
      "execution_count": null,
      "outputs": []
    },
    {
      "cell_type": "markdown",
      "source": [
        "### 71. Consider an array of dimension (5,5,3), how to mulitply it by an array with dimensions (5,5)? (★★★)"
      ],
      "metadata": {
        "id": "w5I5jWPP1sUr"
      }
    },
    {
      "cell_type": "code",
      "source": [],
      "metadata": {
        "id": "as73osTL1sZ-"
      },
      "execution_count": null,
      "outputs": []
    },
    {
      "cell_type": "markdown",
      "source": [
        "### 72. How to swap two rows of an array? (★★★)"
      ],
      "metadata": {
        "id": "st7etYGB1sfK"
      }
    },
    {
      "cell_type": "code",
      "source": [],
      "metadata": {
        "id": "q6pevumJ1skJ"
      },
      "execution_count": null,
      "outputs": []
    },
    {
      "cell_type": "markdown",
      "source": [
        "### 73. Consider a set of 10 triplets describing 10 triangles (with shared vertices), find the set of unique line segments composing all the triangles (★★★)"
      ],
      "metadata": {
        "id": "lqU-6mJE1spW"
      }
    },
    {
      "cell_type": "code",
      "source": [],
      "metadata": {
        "id": "5owEHZkK1sur"
      },
      "execution_count": null,
      "outputs": []
    },
    {
      "cell_type": "markdown",
      "source": [
        "### 74. Given a sorted array C that corresponds to a bincount, how to produce an array A such that np.bincount(A) == C? (★★★)"
      ],
      "metadata": {
        "id": "xT79MF8S1s5j"
      }
    },
    {
      "cell_type": "code",
      "source": [],
      "metadata": {
        "id": "gXpxvLHb1s_E"
      },
      "execution_count": null,
      "outputs": []
    },
    {
      "cell_type": "markdown",
      "source": [
        "### 75. How to compute averages using a sliding window over an array? (★★★)"
      ],
      "metadata": {
        "id": "Xxs2iLoh1tGE"
      }
    },
    {
      "cell_type": "code",
      "source": [],
      "metadata": {
        "id": "PJ_VLqZh1tKq"
      },
      "execution_count": null,
      "outputs": []
    },
    {
      "cell_type": "markdown",
      "source": [
        "### 76. Consider a one-dimensional array Z, build a two-dimensional array whose first row is (Z[0],Z[1],Z[2]) and each subsequent row is shifted by 1 (last row should be (Z[-3],Z[-2],Z[-1]) (★★★)"
      ],
      "metadata": {
        "id": "q7RLZasY1tQa"
      }
    },
    {
      "cell_type": "code",
      "source": [],
      "metadata": {
        "id": "_gXUMxwg1tVM"
      },
      "execution_count": null,
      "outputs": []
    },
    {
      "cell_type": "markdown",
      "source": [
        "### 77. How to negate a boolean, or to change the sign of a float inplace? (★★★)"
      ],
      "metadata": {
        "id": "Y74Rz6gX1tbD"
      }
    },
    {
      "cell_type": "code",
      "source": [],
      "metadata": {
        "id": "Fxm9x3pE1tgV"
      },
      "execution_count": null,
      "outputs": []
    },
    {
      "cell_type": "markdown",
      "source": [
        "### 78. Consider 2 sets of points P0,P1 describing lines (2d) and a point p, how to compute distance from p to each line i (P0[i],P1[i])? (★★★)"
      ],
      "metadata": {
        "id": "36p70hso1tnX"
      }
    },
    {
      "cell_type": "code",
      "source": [],
      "metadata": {
        "id": "M_omZnO91trv"
      },
      "execution_count": null,
      "outputs": []
    },
    {
      "cell_type": "markdown",
      "source": [
        "### 79. Consider 2 sets of points P0,P1 describing lines (2d) and a set of points P, how to compute distance from each point j (P[j]) to each line i (P0[i],P1[i])? (★★★)"
      ],
      "metadata": {
        "id": "5KIKG0I_1txT"
      }
    },
    {
      "cell_type": "code",
      "source": [],
      "metadata": {
        "id": "ePu6Uuq81t2P"
      },
      "execution_count": null,
      "outputs": []
    },
    {
      "cell_type": "markdown",
      "source": [
        "### 80. Consider an arbitrary array, write a function that extract a subpart with a fixed shape and centered on a given element (pad with a fill value when necessary) (★★★)"
      ],
      "metadata": {
        "id": "zC8N9BEM1t74"
      }
    },
    {
      "cell_type": "code",
      "source": [],
      "metadata": {
        "id": "9-cHbFsa1uB6"
      },
      "execution_count": null,
      "outputs": []
    },
    {
      "cell_type": "markdown",
      "source": [
        "### 81. Consider an array Z = [1,2,3,4,5,6,7,8,9,10,11,12,13,14], how to generate an array R = [[1,2,3,4], [2,3,4,5], [3,4,5,6], ..., [11,12,13,14]]? (★★★)"
      ],
      "metadata": {
        "id": "96-4uCqJ11tb"
      }
    },
    {
      "cell_type": "code",
      "source": [],
      "metadata": {
        "id": "eUSv3zfp11yd"
      },
      "execution_count": null,
      "outputs": []
    },
    {
      "cell_type": "markdown",
      "source": [
        "### 82. Compute a matrix rank (★★★)"
      ],
      "metadata": {
        "id": "M9F5LX5P113h"
      }
    },
    {
      "cell_type": "code",
      "source": [],
      "metadata": {
        "id": "lMXnCIMg118D"
      },
      "execution_count": null,
      "outputs": []
    },
    {
      "cell_type": "markdown",
      "source": [
        "### 83. How to find the most frequent value in an array?"
      ],
      "metadata": {
        "id": "NlFVuktC12B1"
      }
    },
    {
      "cell_type": "code",
      "source": [],
      "metadata": {
        "id": "8pV0HSJE12Gk"
      },
      "execution_count": null,
      "outputs": []
    },
    {
      "cell_type": "markdown",
      "source": [
        "### 84. Extract all the contiguous 3x3 blocks from a random 10x10 matrix (★★★)"
      ],
      "metadata": {
        "id": "WHcyk_5x12Mj"
      }
    },
    {
      "cell_type": "code",
      "source": [],
      "metadata": {
        "id": "EhvnMmDe12R0"
      },
      "execution_count": null,
      "outputs": []
    },
    {
      "cell_type": "markdown",
      "source": [
        "### 85. Create a 2D array subclass such that Z[i,j] == Z[j,i] (★★★)"
      ],
      "metadata": {
        "id": "jKZLxrSo12aK"
      }
    },
    {
      "cell_type": "code",
      "source": [],
      "metadata": {
        "id": "v03fDit612iN"
      },
      "execution_count": null,
      "outputs": []
    },
    {
      "cell_type": "markdown",
      "source": [
        "### 86. Consider a set of p matrices wich shape (n,n) and a set of p vectors with shape (n,1). How to compute the sum of of the p matrix products at once? (result has shape (n,1)) (★★★)"
      ],
      "metadata": {
        "id": "aQCEt9Fb12op"
      }
    },
    {
      "cell_type": "code",
      "source": [],
      "metadata": {
        "id": "-nzebPD_12wI"
      },
      "execution_count": null,
      "outputs": []
    },
    {
      "cell_type": "markdown",
      "source": [
        "### 87. Consider a 16x16 array, how to get the block-sum (block size is 4x4)? (★★★)"
      ],
      "metadata": {
        "id": "GdJ5NYOW12-7"
      }
    },
    {
      "cell_type": "code",
      "source": [],
      "metadata": {
        "id": "QHgZQSbO13EF"
      },
      "execution_count": null,
      "outputs": []
    },
    {
      "cell_type": "markdown",
      "source": [
        "### 88. How to implement the Game of Life using numpy arrays? (★★★)"
      ],
      "metadata": {
        "id": "pV6b7Tmp13Ms"
      }
    },
    {
      "cell_type": "code",
      "source": [],
      "metadata": {
        "id": "Q3TnUebM13SL"
      },
      "execution_count": null,
      "outputs": []
    },
    {
      "cell_type": "markdown",
      "source": [
        "### 89. How to get the n largest values of an array (★★★)"
      ],
      "metadata": {
        "id": "cQ5axD0713Y0"
      }
    },
    {
      "cell_type": "code",
      "source": [],
      "metadata": {
        "id": "eaYEo5-a13hG"
      },
      "execution_count": null,
      "outputs": []
    },
    {
      "cell_type": "markdown",
      "source": [
        "### 90. Given an arbitrary number of vectors, build the cartesian product (every combinations of every item) (★★★)"
      ],
      "metadata": {
        "id": "PfShLgdQ13oE"
      }
    },
    {
      "cell_type": "code",
      "source": [],
      "metadata": {
        "id": "mqfOtMKL13tu"
      },
      "execution_count": null,
      "outputs": []
    },
    {
      "cell_type": "markdown",
      "source": [
        "### 91. How to create a record array from a regular array? (★★★)"
      ],
      "metadata": {
        "id": "CDQTYbhu2FaF"
      }
    },
    {
      "cell_type": "code",
      "source": [],
      "metadata": {
        "id": "rDcEvL9o2Fhb"
      },
      "execution_count": null,
      "outputs": []
    },
    {
      "cell_type": "markdown",
      "source": [
        "### 92. Consider a large vector Z, compute Z to the power of 3 using 3 different methods (★★★)"
      ],
      "metadata": {
        "id": "A3tpJOaO2Fs6"
      }
    },
    {
      "cell_type": "code",
      "source": [],
      "metadata": {
        "id": "eZ_YaIFd2F0l"
      },
      "execution_count": null,
      "outputs": []
    },
    {
      "cell_type": "markdown",
      "source": [
        "### 93. Consider two arrays A and B of shape (8,3) and (2,2). How to find rows of A that contain elements of each row of B regardless of the order of the elements in B? (★★★)"
      ],
      "metadata": {
        "id": "PRSWHzyd2F9S"
      }
    },
    {
      "cell_type": "code",
      "source": [],
      "metadata": {
        "id": "zXyHMeEt2GEz"
      },
      "execution_count": null,
      "outputs": []
    },
    {
      "cell_type": "markdown",
      "source": [
        "### 94. Considering a 10x3 matrix, extract rows with unequal values (e.g. [2,2,3]) (★★★)"
      ],
      "metadata": {
        "id": "s5hjir652GOq"
      }
    },
    {
      "cell_type": "code",
      "source": [],
      "metadata": {
        "id": "bJ61ked82GWL"
      },
      "execution_count": null,
      "outputs": []
    },
    {
      "cell_type": "markdown",
      "source": [
        "### 95. Convert a vector of ints into a matrix binary representation (★★★)"
      ],
      "metadata": {
        "id": "89P_BJq12GfC"
      }
    },
    {
      "cell_type": "code",
      "source": [],
      "metadata": {
        "id": "Qgpz9OgQ2GnD"
      },
      "execution_count": null,
      "outputs": []
    },
    {
      "cell_type": "markdown",
      "source": [
        "### 96. Given a two dimensional array, how to extract unique rows? (★★★)"
      ],
      "metadata": {
        "id": "KVi2uoSl2HUX"
      }
    },
    {
      "cell_type": "code",
      "source": [],
      "metadata": {
        "id": "kVow70Sj2IQr"
      },
      "execution_count": null,
      "outputs": []
    },
    {
      "cell_type": "markdown",
      "source": [
        "### 97. Considering 2 vectors A & B, write the einsum equivalent of inner, outer, sum, and mul function (★★★)"
      ],
      "metadata": {
        "id": "KEP45ay32Ifx"
      }
    },
    {
      "cell_type": "code",
      "source": [],
      "metadata": {
        "id": "xMuJ3srG2Ipz"
      },
      "execution_count": null,
      "outputs": []
    },
    {
      "cell_type": "markdown",
      "source": [
        "### 98. Considering a path described by two vectors (X,Y), how to sample it using equidistant samples (★★★)?"
      ],
      "metadata": {
        "id": "OGccAAAw2I4x"
      }
    },
    {
      "cell_type": "code",
      "source": [],
      "metadata": {
        "id": "dlayXrrD2JCL"
      },
      "execution_count": null,
      "outputs": []
    },
    {
      "cell_type": "markdown",
      "source": [
        "### 99. Given an integer n and a 2D array X, select from X the rows which can be interpreted as draws from a multinomial distribution with n degrees, i.e., the rows which only contain integers and which sum to n. (★★★)"
      ],
      "metadata": {
        "id": "ds37kuik2JNy"
      }
    },
    {
      "cell_type": "code",
      "source": [],
      "metadata": {
        "id": "xAirKH0l2JWW"
      },
      "execution_count": null,
      "outputs": []
    },
    {
      "cell_type": "markdown",
      "source": [
        "### 100. Compute bootstrapped 95% confidence intervals for the mean of a 1D array X (i.e., resample the elements of an array with replacement N times, compute the mean of each sample, and then compute percentiles over the means). (★★★)"
      ],
      "metadata": {
        "id": "tqWAWGi82Jg6"
      }
    },
    {
      "cell_type": "code",
      "source": [],
      "metadata": {
        "id": "k3wipOqn2JpF"
      },
      "execution_count": null,
      "outputs": []
    }
  ]
}