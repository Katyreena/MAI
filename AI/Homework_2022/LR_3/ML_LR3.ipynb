{
  "nbformat": 4,
  "nbformat_minor": 0,
  "metadata": {
    "colab": {
      "provenance": [],
      "collapsed_sections": []
    },
    "kernelspec": {
      "name": "python3",
      "display_name": "Python 3"
    },
    "language_info": {
      "name": "python"
    }
  },
  "cells": [
    {
      "cell_type": "markdown",
      "source": [
        "# Лабораторная работа №3:"
      ],
      "metadata": {
        "id": "70ErZz2qVpkr"
      }
    },
    {
      "cell_type": "code",
      "execution_count": 8,
      "metadata": {
        "id": "0d9tOzkkQpes"
      },
      "outputs": [],
      "source": [
        "import numpy as np\n",
        "from typing import Tuple, Mapping\n",
        "import random\n",
        "from numba import njit"
      ]
    },
    {
      "cell_type": "code",
      "source": [
        "@njit\n",
        "def Matias(x: np.array, y:np.array) -> np.float128:\n",
        "  return 0.26*(x*x + y*y) - 0.48*x*y\n",
        "@njit\n",
        "def Matias_dfdx(x: np.array, y:np.array) -> np.float128:\n",
        "  return 0.52 * x - 0.48 * y\n",
        "@njit\n",
        "def Matias_dfdy(x: np.array, y:np.array) -> np.float128:\n",
        "  return 0.52 * y - 0.48 * x"
      ],
      "metadata": {
        "id": "JKe9_RgtRyjX"
      },
      "execution_count": 17,
      "outputs": []
    },
    {
      "cell_type": "code",
      "source": [
        "@njit\n",
        "def my_GD(f: Mapping, dx:Mapping, dy:Mapping, x0: float, y0: float, lr: float = 0.01,\n",
        "          T:int = 1000) -> Tuple [np.ndarray, np.float32]:\n",
        "  \"\"\"\n",
        "  Функция принимает:\n",
        "  f - функционал для оптимизации\n",
        "  dx, dy - градиент оптимизируемого функционала\n",
        "  x0, y0 - стартовая точка алгоритма\n",
        "  lr - скорость обучения (default: 0.01)\n",
        "  T - количество итераций (default: 1000)\n",
        "\n",
        "  Функция возвращает:\n",
        "  Кортеж, включающий в себя: координаты сгенерированной случайно начальной точки,\n",
        "  координаты полученной точки глобального минимума, значение функции в найденной\n",
        "  точке глобального минимума\n",
        "  \"\"\"\n",
        "  xt = x0\n",
        "  yt = y0\n",
        "\n",
        "  for i in range(T):\n",
        "    xt = xt - lr * dx(xt, yt)\n",
        "    yt = yt - lr * dy(xt, yt)\n",
        "  return x0, y0, xt, yt, f(xt, yt)"
      ],
      "metadata": {
        "id": "exKCgO39SBpj"
      },
      "execution_count": 18,
      "outputs": []
    },
    {
      "cell_type": "code",
      "source": [
        "x0, y0, x, y, z = my_GD(Matias, Matias_dfdx, Matias_dfdy, 10, -10, lr = 0.1)\n",
        "print(\"Градиентный спуск\\nНачальная точка: x0 =\", x0, \", y0 =\", y0,\n",
        "      \"\\nТочка глобального минимума: xt =\", x, \", yt =\", y,\n",
        "      \"\\nЗначение функции в точке глобального минимума: f(xt, yt) =\", z)"
      ],
      "metadata": {
        "colab": {
          "base_uri": "https://localhost:8080/"
        },
        "id": "Ol3BkSRtSEqz",
        "outputId": "206ca71d-ba8a-4fb2-f530-9975142b2704"
      },
      "execution_count": 19,
      "outputs": [
        {
          "output_type": "stream",
          "name": "stdout",
          "text": [
            "Градиентный спуск\n",
            "Начальная точка: x0 = 10 , y0 = -10 \n",
            "Точка глобального минимума: xt = -0.004229136952113594 , yt = -0.004220461571001646 \n",
            "Значение функции в точке глобального минимума: f(xt, yt) = 7.139759675776723e-07\n"
          ]
        }
      ]
    },
    {
      "cell_type": "code",
      "source": [
        "@njit\n",
        "def my_GD_Momentum(f: Mapping, dx:Mapping, dy:Mapping, x0: float, y0: float, \n",
        "        beta: float = 0.9, T:int = 1000) -> Tuple [int, int, float, float, float]:\n",
        "  \"\"\"\n",
        "  Функция принимает:\n",
        "  f - функционал для оптимизации\n",
        "  dx, dy - градиент оптимизируемого функционала\n",
        "  x0, y0 - стартовая точка алгоритма\n",
        "  beta - коэффициент обучения (default: 0.9)\n",
        "  T - количество итераций (default: 1000)\n",
        "\n",
        "  Функция возвращает:\n",
        "  Кортеж, включающий в себя: координаты сгенерированной случайно начальной точки,\n",
        "  координаты полученной точки глобального минимума, значение функции в найденной\n",
        "  точке глобального минимума\n",
        "  \"\"\"\n",
        "  xt = x0\n",
        "  yt = y0\n",
        "\n",
        "  for i in range (T):\n",
        "    xt = xt * beta - (1 - beta) * dx(xt, yt)\n",
        "    yt = yt * beta - (1 - beta) * dy(xt, yt)\n",
        "  return x0, y0, xt, yt, f(xt, yt)"
      ],
      "metadata": {
        "id": "yVm7GoFpTCXx"
      },
      "execution_count": 20,
      "outputs": []
    },
    {
      "cell_type": "code",
      "source": [
        "x0, y0, p_x, p_y, p_z = my_GD_Momentum(Matias, Matias_dfdx, Matias_dfdy, x0=10, y0=-10)\n",
        "print(\"Алгоритм GD Momentum\\nНачальная точка: x0 =\", x0, \", y0 =\", y0,\n",
        "      \"\\nТочка глобального минимума: xt =\", p_x, \", yt =\", p_y,\n",
        "      \"\\nГлобальный минимум: f(xt, yt) =\", p_z)"
      ],
      "metadata": {
        "colab": {
          "base_uri": "https://localhost:8080/"
        },
        "id": "X1tDUXEKUSKL",
        "outputId": "fdba2a1d-b2cf-4f36-f91f-c2b717f2f46b"
      },
      "execution_count": 21,
      "outputs": [
        {
          "output_type": "stream",
          "name": "stdout",
          "text": [
            "Алгоритм GD Momentum\n",
            "Начальная точка: x0 = 10 , y0 = -10 \n",
            "Точка глобального минимума: xt = -5.990194208112103e-50 , yt = -5.66182284098101e-50 \n",
            "Глобальный минимум: f(xt, yt) = 1.3846519518114525e-100\n"
          ]
        }
      ]
    },
    {
      "cell_type": "code",
      "source": [
        "@njit\n",
        "def my_GD_ADAM(f: Mapping, dx:Mapping, dy:Mapping, x0: float, y0: float,\n",
        "        lr: float = 0.1, beta1: float = 0.9, beta2: float = 0.99,\n",
        "        eps: float = 1e-8, T:int = 1000) -> Tuple [int, int, float, float, float]:\n",
        "  \"\"\"\n",
        "  Функция принимает:\n",
        "  f - функционал для оптимизации\n",
        "  dx, dy - градиент оптимизируемого функционала\n",
        "  x0, y0 - стартовая точка алгоритма\n",
        "  lr - коэффициент скорости обучения (default: 0.1)\n",
        "  beta1 - параметр (default: 0.9)\n",
        "  beta2 - параметр (default: 0.99)\n",
        "  eps - параметр (default: 1e-8)\n",
        "  T - количество итераций (default: 1000)\n",
        "\n",
        "  Функция возвращает:\n",
        "  Кортеж, включающий в себя: координаты сгенерированной случайно начальной точки,\n",
        "  координаты полученной точки глобального минимума, значение функции в найденной\n",
        "  точке глобального минимума\n",
        "  \"\"\"\n",
        "  xt = x0\n",
        "  yt = y0\n",
        "  vtx = 0\n",
        "  vty = 0\n",
        "  Gtx = 0\n",
        "  Gty = 0\n",
        "\n",
        "  for i in range (T):\n",
        "    grad_x = dx(xt, yt)\n",
        "    grad_y = dy(xt, yt)\n",
        "    vtx = beta1 * vtx + (1 - beta1) * grad_x\n",
        "    vty = beta1 * vty + (1 - beta1) * grad_y\n",
        "    Gtx = beta2 * Gtx + (1 - beta2) * (grad_x) ** 2\n",
        "    Gty = beta2 * Gty + (1 - beta2) * (grad_y) ** 2\n",
        "    xt = xt - lr * vtx / (Gtx + eps) ** (1 / 2)\n",
        "    yt = yt - lr * vty / (Gty + eps) ** (1 / 2)\n",
        "  return x0, y0, xt, yt, f(xt, yt)"
      ],
      "metadata": {
        "id": "Qv1Rcs4wUa0K"
      },
      "execution_count": 22,
      "outputs": []
    },
    {
      "cell_type": "code",
      "source": [
        "x0, y0, p_x, p_y, p_z = my_GD_ADAM(Matias, Matias_dfdx, Matias_dfdy, x0=10, y0=-10)\n",
        "print(\"Алгоритм GD ADAM\\nНачальная точка: x0 =\", x0, \", y0 =\", y0,\n",
        "      \"\\nТочка глобального минимума: xt =\", p_x, \", yt =\", p_y,\n",
        "      \"\\nГлобальный минимум: f(xt, yt) =\", p_z)"
      ],
      "metadata": {
        "colab": {
          "base_uri": "https://localhost:8080/"
        },
        "id": "bs4sL75kU8Kk",
        "outputId": "81e08277-6946-4738-e2f8-3668b49480ca"
      },
      "execution_count": 23,
      "outputs": [
        {
          "output_type": "stream",
          "name": "stdout",
          "text": [
            "Алгоритм GD ADAM\n",
            "Начальная точка: x0 = 10 , y0 = -10 \n",
            "Точка глобального минимума: xt = -8.08304859034943e-22 , yt = 8.08304859034943e-22 \n",
            "Глобальный минимум: f(xt, yt) = 6.533567451394991e-43\n"
          ]
        }
      ]
    }
  ]
}