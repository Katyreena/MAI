{
  "nbformat": 4,
  "nbformat_minor": 0,
  "metadata": {
    "colab": {
      "provenance": []
    },
    "kernelspec": {
      "name": "python3",
      "display_name": "Python 3"
    },
    "language_info": {
      "name": "python"
    }
  },
  "cells": [
    {
      "cell_type": "markdown",
      "source": [
        "# Часть 2: алгоритмическая задача\n",
        "\n",
        "Для решения была выбрана задача о рюкзаке: есть рюкзак определенной вместимости. Есть конечное количество вещей разного веса и ценности, которые в этот рюкзак можно положить, но поместятся не все вещи. Цель: найти такой набор вещей, который можно сложить в рюкзак, чтобы при ограниченной вместимости рюкзака была достигнута максимально возможная его ценность."
      ],
      "metadata": {
        "id": "CrRgMNwFBs8A"
      }
    },
    {
      "cell_type": "code",
      "source": [
        "!pip install pygmo"
      ],
      "metadata": {
        "colab": {
          "base_uri": "https://localhost:8080/"
        },
        "id": "8cCaT0jABsI6",
        "outputId": "ce998a5f-5bd4-44b7-83c4-ee5e575efd5c"
      },
      "execution_count": 3,
      "outputs": [
        {
          "output_type": "stream",
          "name": "stdout",
          "text": [
            "Looking in indexes: https://pypi.org/simple, https://us-python.pkg.dev/colab-wheels/public/simple/\n",
            "Collecting pygmo\n",
            "  Downloading pygmo-2.16.1-cp37-cp37m-manylinux2010_x86_64.whl (11.5 MB)\n",
            "\u001b[K     |████████████████████████████████| 11.5 MB 7.8 MB/s \n",
            "\u001b[?25hRequirement already satisfied: cloudpickle in /usr/local/lib/python3.7/dist-packages (from pygmo) (1.5.0)\n",
            "Requirement already satisfied: numpy in /usr/local/lib/python3.7/dist-packages (from pygmo) (1.21.6)\n",
            "Installing collected packages: pygmo\n",
            "Successfully installed pygmo-2.16.1\n"
          ]
        }
      ]
    },
    {
      "cell_type": "code",
      "source": [
        "import math\n",
        "import pygmo as pg\n",
        "import numpy as np\n",
        "from matplotlib import pyplot as plt\n",
        "from matplotlib import animation\n",
        "from matplotlib import rc\n",
        "from matplotlib import colors as cm"
      ],
      "metadata": {
        "id": "ulouBp0_ByOx"
      },
      "execution_count": 4,
      "outputs": []
    },
    {
      "cell_type": "code",
      "source": [
        "class Rucksack():\n",
        "  def __init__(self, weight, cost, limit_weight):\n",
        "    self.dim = len(cost)\n",
        "    self.weight = weight\n",
        "    self.cost = cost\n",
        "    self.limit_weight = limit_weight\n",
        "\n",
        "  def get_bounds(self):\n",
        "    return (np.full((self.dim,), 0), np.full((self.dim,), 1))\n",
        "\n",
        "  def fitness(self, x):\n",
        "    result, limitation = np.zeros((1,)), np.zeros((1,))\n",
        "    for i in range(self.dim):\n",
        "      round_x = round(x[i])\n",
        "      result[0] += round_x * self.cost[i]\n",
        "      limitation[0] += round_x * self.weight[i]\n",
        "    if (limitation[0] > self.limit_weight):\n",
        "      return np.zeros((1,))\n",
        "    else:\n",
        "      return -result"
      ],
      "metadata": {
        "id": "-A7zttulB4MR"
      },
      "execution_count": 5,
      "outputs": []
    },
    {
      "cell_type": "code",
      "source": [
        "cost = [17, 17, 17, 30, 30, 30, 75, 75, 75] #массив значений ценности вещей\n",
        "weight = [1.5, 1.5, 1.5, 2.5, 2.5, 2.5, 6, 6, 6] #массив значений занимаемого места\n",
        "limit_weight = 20 #ограничение по вместимости\n",
        "res = np.zeros([9, 8])\n",
        "for i in range(1, 10):\n",
        "  for j in range(2, 10):\n",
        "      algo = pg.algorithm(pg.bee_colony(gen = i))\n",
        "      prob = pg.problem(Rucksack(weight, cost, limit_weight))\n",
        "      pop = pg.population(prob, j)\n",
        "      pop = algo.evolve(pop)\n",
        "      res[i-1][j-2] = -pop.champion_f[0]\n",
        "\n",
        "print(\"Список лучших\\n\", res)"
      ],
      "metadata": {
        "colab": {
          "base_uri": "https://localhost:8080/"
        },
        "id": "Q7jDIzunB8MI",
        "outputId": "bd634354-ec43-4194-bd06-6ed0ef6cab09"
      },
      "execution_count": 6,
      "outputs": [
        {
          "output_type": "stream",
          "name": "stdout",
          "text": [
            "Список лучших\n",
            " [[182. 214. 201. 214. 240. 231. 244. 231.]\n",
            " [199. 214. 199. 197. 244. 244. 244. 244.]\n",
            " [227. 240. 244. 240. 242. 201. 214. 244.]\n",
            " [227. 227. 244. 231. 244. 231. 244. 244.]\n",
            " [227. 227. 244. 231. 242. 242. 244. 244.]\n",
            " [231. 244. 231. 214. 244. 244. 244. 244.]\n",
            " [186. 240. 244. 244. 244. 244. 244. 244.]\n",
            " [244. 231. 244. 244. 244. 244. 244. 244.]\n",
            " [240. 242. 240. 244. 244. 244. 240. 244.]]\n"
          ]
        }
      ]
    }
  ]
}
