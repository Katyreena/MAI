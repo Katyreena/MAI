{
  "nbformat": 4,
  "nbformat_minor": 0,
  "metadata": {
    "colab": {
      "provenance": [],
      "include_colab_link": true
    },
    "kernelspec": {
      "name": "python3",
      "display_name": "Python 3"
    },
    "language_info": {
      "name": "python"
    }
  },
  "cells": [
    {
      "cell_type": "markdown",
      "metadata": {
        "id": "view-in-github",
        "colab_type": "text"
      },
      "source": [
        "<a href=\"https://colab.research.google.com/github/katyreena/MAI/blob/main/CUDA/Labs_2022/ParalellPrograming.ipynb\" target=\"_parent\"><img src=\"https://colab.research.google.com/assets/colab-badge.svg\" alt=\"Open In Colab\"/></a>"
      ]
    },
    {
      "cell_type": "markdown",
      "source": [
        "##MPI+pyTorch\n",
        "###Этап А.  \n",
        "* MasterNode рассылает ComputeNodes нейронки и части датасета для обучения  \n",
        "* ComputeNodes обучают свои модели и информируют MasterNode об этом  \n",
        "\n",
        "###Этап Б. Inference  \n",
        "* К MasterNode передается объект данных для предсказаения.  \n",
        "* MasterNode рассылает его всем ComputeNodes.  \n",
        "* ComputeNodes делают предсказания и отправляют их MasterNode.  \n",
        "* MasterNode на основе всех предсказаний делает голосование и выбирает предсказание.  \n",
        "\n",
        "###Ансамбльный метод:  \n",
        "* Усреднение (если задача регрессии)  \n",
        "* Самый частовыбираемый класс (если задача классификации) или наиболее уверененный  \n",
        "\n",
        "###Отчет: \n",
        "* Что такое MPI\n",
        "* Что такое pyTorch\n",
        "* В чем состоит задача\n",
        "* Из чего состоит датасет\n",
        "* Как выглядит форма голосования\n",
        "* Выводы по сравненнию с использованием 1 процесса"
      ],
      "metadata": {
        "id": "BHpDH2J8uCwD"
      }
    },
    {
      "cell_type": "code",
      "source": [
        "import time\n",
        "import copy\n",
        "import numpy as np\n",
        "import pandas as pd\n",
        "import matplotlib.pyplot as plt\n",
        "from sklearn.model_selection import train_test_split\n",
        "\n",
        "import torch\n",
        "import torchvision\n",
        "import torch.nn as nn\n",
        "import torch.optim as optim\n",
        "import torchvision.transforms as transforms\n",
        "from torch.utils.data import Dataset, DataLoader, ConcatDataset\n",
        "\n",
        "torch.manual_seed(17)"
      ],
      "metadata": {
        "id": "KeJyZJqaEOFZ",
        "colab": {
          "base_uri": "https://localhost:8080/"
        },
        "outputId": "082bd40a-f800-45e8-a463-d12cc95b3404"
      },
      "execution_count": null,
      "outputs": [
        {
          "output_type": "execute_result",
          "data": {
            "text/plain": [
              "<torch._C.Generator at 0x7f9d99a16dd0>"
            ]
          },
          "metadata": {},
          "execution_count": 1
        }
      ]
    },
    {
      "cell_type": "code",
      "source": [
        "train = pd.read_csv(\"/content/train.csv\",dtype = np.float32)\n",
        "test = pd.read_csv(\"/content/test.csv\",dtype = np.float32)\n",
        "\n",
        "train = train[0:100]\n",
        "test = test[0:100]\n",
        "submission = pd.read_csv(\"/content/sample_submission.csv\")\n",
        "submission = submission[0:100]\n",
        "\n",
        "print(\"Train set shape:\", train.shape)\n",
        "print(\"Test set shape:\", test.shape)"
      ],
      "metadata": {
        "id": "baN0QDP9EOC_",
        "colab": {
          "base_uri": "https://localhost:8080/"
        },
        "outputId": "86161b67-2fce-406a-9cd2-aadd80168490"
      },
      "execution_count": null,
      "outputs": [
        {
          "output_type": "stream",
          "name": "stdout",
          "text": [
            "Train set shape: (100, 785)\n",
            "Test set shape: (100, 784)\n"
          ]
        }
      ]
    },
    {
      "cell_type": "code",
      "source": [
        "label_dist = dict(train.label.value_counts())\n",
        "number = label_dist.keys()\n",
        "count = label_dist.values() \n",
        "   \n",
        "fig = plt.figure(figsize = (8, 5)) \n",
        "   \n",
        "plt.bar(number, count, width = 0.5) \n",
        "  \n",
        "plt.xlabel(\"Label\") \n",
        "plt.ylabel(\"No. of samples\") \n",
        "plt.title(\"Distribution of labels\") \n",
        "plt.show() "
      ],
      "metadata": {
        "id": "oIUPR436EOAo",
        "colab": {
          "base_uri": "https://localhost:8080/",
          "height": 350
        },
        "outputId": "9254ed47-a98e-4056-8a61-06f872140c7f"
      },
      "execution_count": null,
      "outputs": [
        {
          "output_type": "display_data",
          "data": {
            "text/plain": [
              "<Figure size 576x360 with 1 Axes>"
            ],
            "image/png": "[encoded data removed]"
          },
          "metadata": {
            "needs_background": "light"
          }
        }
      ]
    },
    {
      "cell_type": "code",
      "source": [
        "plt.imshow(train.iloc[0, 1:].values.reshape(28,28))\n",
        "plt.axis(\"off\")\n",
        "plt.title(str(train.iloc[0, 0]))\n",
        "plt.show()"
      ],
      "metadata": {
        "id": "69iHRSS3EN-f",
        "colab": {
          "base_uri": "https://localhost:8080/",
          "height": 264
        },
        "outputId": "9a4c1ddc-8c69-43c5-87d2-42f9f63e3359"
      },
      "execution_count": null,
      "outputs": [
        {
          "output_type": "display_data",
          "data": {
            "text/plain": [
              "<Figure size 432x288 with 1 Axes>"
            ],
            "image/png": "[encoded data removed]"
          },
          "metadata": {
            "needs_background": "light"
          }
        }
      ]
    },
    {
      "cell_type": "code",
      "source": [
        "#numpy.ndarray\n",
        "labels = train.label.values\n",
        "data = train.iloc[:, 1:].values / 255 # Normalization"
      ],
      "metadata": {
        "id": "0LvFBexdEN7u"
      },
      "execution_count": null,
      "outputs": []
    },
    {
      "cell_type": "code",
      "source": [
        "#torch.Tensor\n",
        "labels = torch.from_numpy(labels).type(torch.LongTensor)\n",
        "data = torch.from_numpy(data).view(data.shape[0], 1, 28, 28)"
      ],
      "metadata": {
        "id": "exd19n6xErnV"
      },
      "execution_count": null,
      "outputs": []
    },
    {
      "cell_type": "code",
      "source": [
        "#split the data\n",
        "train_data, val_data, train_labels, val_labels = train_test_split(data, labels, test_size = 0.2, random_state = 42)"
      ],
      "metadata": {
        "id": "gKTE7vkeErkW"
      },
      "execution_count": null,
      "outputs": []
    },
    {
      "cell_type": "code",
      "source": [
        "class CustomTensorDataset(Dataset):\n",
        "\n",
        "    def __init__(self, data, labels=None, transform=None):      \n",
        "        self.data = data\n",
        "        self.labels = labels\n",
        "        self.transform = transform\n",
        "\n",
        "    def __getitem__(self, index):       \n",
        "        x = self.data[index]\n",
        "        \n",
        "        if self.transform is not None:\n",
        "            x = self.transform(x)\n",
        "        if self.labels is not None:\n",
        "            y = self.labels[index]\n",
        "            return x, y\n",
        "        else:\n",
        "            return x\n",
        "\n",
        "    def __len__(self):    \n",
        "        return self.data.size(0)"
      ],
      "metadata": {
        "id": "sv1DMKOZErh2"
      },
      "execution_count": null,
      "outputs": []
    },
    {
      "cell_type": "code",
      "source": [
        "transform = transforms.Compose([\n",
        "    transforms.ToPILImage(),\n",
        "    transforms.RandomAffine(degrees=20, scale=(1.1, 1.1)),\n",
        "    transforms.RandomCrop((28, 28), padding=2, pad_if_needed=True, fill=0, padding_mode='constant'),\n",
        "    transforms.ToTensor()\n",
        "])"
      ],
      "metadata": {
        "id": "RY4VGV5OErY4"
      },
      "execution_count": null,
      "outputs": []
    },
    {
      "cell_type": "code",
      "source": [
        "sample = CustomTensorDataset(train_data[:3], train_labels[:3])\n",
        "sample_aug = CustomTensorDataset(train_data[:3], train_labels[:3], transform=transform)\n",
        "\n",
        "fig, axs = plt.subplots(2, 3)\n",
        "\n",
        "for idx, item in enumerate(zip(sample, sample_aug)):\n",
        "    \n",
        "    im = item[0][0].squeeze().numpy()\n",
        "    im_aug = item[1][0].squeeze().numpy()\n",
        "\n",
        "    axs[0, idx].imshow(im)\n",
        "    axs[0, idx].set_title(\"w/o aug\")\n",
        "    axs[0, idx].axis('off')\n",
        "    \n",
        "    axs[1, idx].imshow(im_aug)\n",
        "    axs[1, idx].set_title(\"aug\")\n",
        "    axs[1, idx].axis('off')"
      ],
      "metadata": {
        "id": "LlgxkQRMErWj",
        "colab": {
          "base_uri": "https://localhost:8080/",
          "height": 264
        },
        "outputId": "1d509a28-b3b7-42be-ab78-f0c811a22e00"
      },
      "execution_count": null,
      "outputs": [
        {
          "output_type": "display_data",
          "data": {
            "text/plain": [
              "<Figure size 432x288 with 6 Axes>"
            ],
            "image/png": "[encoded data removed]"
          },
          "metadata": {
            "needs_background": "light"
          }
        }
      ]
    },
    {
      "cell_type": "code",
      "source": [
        "#create training and validation sets\n",
        "trainset = ConcatDataset([\n",
        "    CustomTensorDataset(train_data, train_labels),\n",
        "    CustomTensorDataset(train_data, train_labels, transform=transform)\n",
        "])\n",
        "valset = CustomTensorDataset(val_data, val_labels)"
      ],
      "metadata": {
        "id": "idq_OPXsErUC"
      },
      "execution_count": null,
      "outputs": []
    },
    {
      "cell_type": "code",
      "source": [
        "#create dataloaders to make use of batching and shuffling\n",
        "train_loader = DataLoader(trainset, batch_size=32, shuffle=True)\n",
        "val_loader = DataLoader(valset, batch_size=32, shuffle=False)"
      ],
      "metadata": {
        "id": "8We3hu9tErRm"
      },
      "execution_count": null,
      "outputs": []
    },
    {
      "cell_type": "code",
      "source": [
        "class Block(nn.Module):\n",
        "    \n",
        "    def __init__(self, in_channels, out_channels, identity_downsample=None, stride=1):\n",
        "        super(Block, self).__init__()\n",
        "        self.conv1 = nn.Conv2d(in_channels, out_channels, kernel_size=3, stride=stride, padding=1)\n",
        "        self.bn1 = nn.BatchNorm2d(out_channels)\n",
        "        self.conv2 = nn.Conv2d(out_channels, out_channels, kernel_size=3, stride=1, padding=1)\n",
        "        self.bn2 = nn.BatchNorm2d(out_channels)\n",
        "        self.relu = nn.ReLU()\n",
        "        self.identity_downsample = identity_downsample\n",
        "        \n",
        "    def forward(self, x):\n",
        "        identity = x\n",
        "        x = self.conv1(x)\n",
        "        x = self.bn1(x)\n",
        "        x = self.relu(x)\n",
        "        x = self.conv2(x)\n",
        "        x = self.bn2(x)\n",
        "        if self.identity_downsample is not None:\n",
        "            identity = self.identity_downsample(identity)\n",
        "        x += identity\n",
        "        x = self.relu(x)\n",
        "        return x"
      ],
      "metadata": {
        "id": "1m_1KSz9E4kT"
      },
      "execution_count": null,
      "outputs": []
    },
    {
      "cell_type": "code",
      "source": [
        "class ResNet_18(nn.Module):\n",
        "    \n",
        "    def __init__(self, image_channels, num_classes):\n",
        "        \n",
        "        super(ResNet_18, self).__init__()\n",
        "        self.in_channels = 64\n",
        "        self.conv1 = nn.Conv2d(image_channels, 64, kernel_size=7, stride=2, padding=3)\n",
        "        self.bn1 = nn.BatchNorm2d(64)\n",
        "        self.relu = nn.ReLU()\n",
        "        self.maxpool = nn.MaxPool2d(kernel_size=3, stride=2, padding=1)\n",
        "        \n",
        "        #resnet layers\n",
        "        self.layer1 = self.__make_layer(64, 64, stride=1)\n",
        "        self.layer2 = self.__make_layer(64, 128, stride=2)\n",
        "        self.layer3 = self.__make_layer(128, 256, stride=2)\n",
        "        self.layer4 = self.__make_layer(256, 512, stride=2)\n",
        "        \n",
        "        self.avgpool = nn.AdaptiveAvgPool2d((1, 1))\n",
        "        self.fc = nn.Linear(512, num_classes)\n",
        "        \n",
        "    def __make_layer(self, in_channels, out_channels, stride):\n",
        "        \n",
        "        identity_downsample = None\n",
        "        if stride != 1:\n",
        "            identity_downsample = self.identity_downsample(in_channels, out_channels)\n",
        "            \n",
        "        return nn.Sequential(\n",
        "            Block(in_channels, out_channels, identity_downsample=identity_downsample, stride=stride), \n",
        "            Block(out_channels, out_channels)\n",
        "        )\n",
        "        \n",
        "    def forward(self, x):\n",
        "        \n",
        "        x = self.conv1(x)\n",
        "        x = self.bn1(x)\n",
        "        x = self.relu(x)\n",
        "        x = self.maxpool(x)\n",
        "        \n",
        "        x = self.layer1(x)\n",
        "        x = self.layer2(x)\n",
        "        x = self.layer3(x)\n",
        "        x = self.layer4(x)\n",
        "        \n",
        "        x = self.avgpool(x)\n",
        "        x = x.view(x.shape[0], -1)\n",
        "        x = self.fc(x)\n",
        "        return x \n",
        "    \n",
        "    def identity_downsample(self, in_channels, out_channels):\n",
        "        \n",
        "        return nn.Sequential(\n",
        "            nn.Conv2d(in_channels, out_channels, kernel_size=3, stride=2, padding=1), \n",
        "            nn.BatchNorm2d(out_channels)\n",
        "        )"
      ],
      "metadata": {
        "id": "PRl-uGa7E4iF"
      },
      "execution_count": null,
      "outputs": []
    },
    {
      "cell_type": "code",
      "source": [
        "model = ResNet_18(1, 10)"
      ],
      "metadata": {
        "id": "l6ZrYcGwE4fi"
      },
      "execution_count": null,
      "outputs": []
    },
    {
      "cell_type": "code",
      "source": [
        "#count trainable parameters of the model\n",
        "def count_parameters(model):\n",
        "    return sum(p.numel() for p in model.parameters() if p.requires_grad)\n",
        "\n",
        "count_parameters(model)"
      ],
      "metadata": {
        "id": "bNeraZNEE4dW",
        "colab": {
          "base_uri": "https://localhost:8080/"
        },
        "outputId": "6f29f55c-ebdc-4227-856b-b8cc37c7f172"
      },
      "execution_count": null,
      "outputs": [
        {
          "output_type": "execute_result",
          "data": {
            "text/plain": [
              "12556426"
            ]
          },
          "metadata": {},
          "execution_count": 115
        }
      ]
    },
    {
      "cell_type": "code",
      "source": [
        "#define everything we need for training\n",
        "epochs = 1\n",
        "criterion = nn.CrossEntropyLoss()\n",
        "optimizer = optim.Adam(model.parameters(), lr=0.0001, weight_decay=1e-4)\n",
        "lr_scheduler = optim.lr_scheduler.ReduceLROnPlateau(optimizer, patience=5, verbose=True)"
      ],
      "metadata": {
        "id": "sf-m8DcOFF4Q"
      },
      "execution_count": null,
      "outputs": []
    },
    {
      "cell_type": "code",
      "source": [
        "def train_model(model, dataloaders, criterion, optimizer, num_epochs=50, is_inception=False):\n",
        "    \n",
        "    since = time.time()\n",
        "    val_acc_history = []\n",
        "    best_model_wts = copy.deepcopy(model.state_dict())\n",
        "    best_acc = 0.0\n",
        "\n",
        "    for epoch in range(num_epochs):\n",
        "        print('Epoch {}/{}'.format(epoch, num_epochs - 1))\n",
        "        print('-' * 10)\n",
        "\n",
        "        for phase in ['train', 'val']: # Each epoch has a training and validation phase\n",
        "            if phase == 'train':\n",
        "                model.train()  # Set model to training mode\n",
        "            else:\n",
        "                model.eval()   # Set model to evaluate mode\n",
        "\n",
        "            running_loss = 0.0\n",
        "            running_corrects = 0\n",
        "\n",
        "            for inputs, labels in dataloaders[phase]: # Iterate over data\n",
        "                \n",
        "                inputs = transforms.functional.resize(inputs, (112, 112))\n",
        "\n",
        "\n",
        "\n",
        "                optimizer.zero_grad() # Zero the parameter gradients\n",
        "\n",
        "                with torch.set_grad_enabled(phase == 'train'): # Forward. Track history if only in train\n",
        "                    \n",
        "                    outputs = model(inputs)\n",
        "                    loss = criterion(outputs, labels)\n",
        "                    _, preds = torch.max(outputs, 1)\n",
        "\n",
        "                    if phase == 'train': # Backward + optimize only if in training phase\n",
        "                        loss.backward()\n",
        "                        optimizer.step()\n",
        "\n",
        "                # Statistics\n",
        "                running_loss += loss.item() * inputs.size(0)\n",
        "                running_corrects += torch.sum(preds == labels.data)\n",
        "\n",
        "            epoch_loss = running_loss / len(dataloaders[phase].dataset)\n",
        "            \n",
        "            if phase == 'val': # Adjust learning rate based on val loss\n",
        "                lr_scheduler.step(epoch_loss)\n",
        "                \n",
        "            epoch_acc = running_corrects.double() / len(dataloaders[phase].dataset)\n",
        "\n",
        "            print('{} Loss: {:.4f} Acc: {:.4f}'.format(phase, epoch_loss, epoch_acc))\n",
        "\n",
        "            # deep copy the model\n",
        "            if phase == 'val' and epoch_acc > best_acc:\n",
        "                best_acc = epoch_acc\n",
        "                best_model_wts = copy.deepcopy(model.state_dict())\n",
        "            if phase == 'val':\n",
        "                val_acc_history.append(epoch_acc)\n",
        "\n",
        "        print()\n",
        "\n",
        "    time_elapsed = time.time() - since\n",
        "    print('Training complete in {:.0f}m {:.0f}s'.format(time_elapsed // 60, time_elapsed % 60))\n",
        "    print('Best val Acc: {:4f}'.format(best_acc))\n",
        "\n",
        "    # load best model weights\n",
        "    model.load_state_dict(best_model_wts)\n",
        "    return model, val_acc_history"
      ],
      "metadata": {
        "id": "y_rzj7S2FF1y"
      },
      "execution_count": null,
      "outputs": []
    },
    {
      "cell_type": "code",
      "source": [
        "model, _ = train_model(model, {\"train\": train_loader, \"val\": val_loader}, criterion, optimizer, epochs)"
      ],
      "metadata": {
        "id": "5wTQnxVUFFzL",
        "colab": {
          "base_uri": "https://localhost:8080/"
        },
        "outputId": "8be0e891-c8d2-4f98-c3de-7b54b55bdc84"
      },
      "execution_count": null,
      "outputs": [
        {
          "output_type": "stream",
          "name": "stdout",
          "text": [
            "Epoch 0/0\n",
            "----------\n",
            "train Loss: 2.1164 Acc: 0.2562\n",
            "val Loss: 2.2762 Acc: 0.1500\n",
            "\n",
            "Training complete in 0m 13s\n",
            "Best val Acc: 0.150000\n"
          ]
        }
      ]
    },
    {
      "cell_type": "code",
      "source": [
        "#prepare test set for the model\n",
        "test = test.values / 255\n",
        "test = torch.from_numpy(test).view(test.shape[0], 1, 28, 28)"
      ],
      "metadata": {
        "id": "ZA9Q3LZaFFw3"
      },
      "execution_count": null,
      "outputs": []
    },
    {
      "cell_type": "code",
      "source": [
        "#prepare a dataloader with the test set\n",
        "testset = CustomTensorDataset(test, None)\n",
        "test_loader = DataLoader(testset, batch_size=1, shuffle=False)"
      ],
      "metadata": {
        "id": "qOiVVAjUFFuZ"
      },
      "execution_count": null,
      "outputs": []
    },
    {
      "cell_type": "code",
      "source": [
        "#turn on the evaluation mode and make predictions batch by batch (otherwise it lack gpu memory)\n",
        "#to use predictions for the submission we first need to transfer to the cpu\n",
        "model.eval()\n",
        "labels = []\n",
        "for inputs in test_loader:\n",
        "    inputs = transforms.functional.resize(inputs, (112, 112))\n",
        "    outputs = model(inputs)\n",
        "    _, predictions = torch.max(outputs, 1)\n",
        "    predictions = predictions.to(\"cpu\")\n",
        "    labels.extend(predictions.numpy())\n",
        "    break"
      ],
      "metadata": {
        "id": "iDCxgktwFRm3"
      },
      "execution_count": null,
      "outputs": []
    },
    {
      "cell_type": "code",
      "source": [
        "labels"
      ],
      "metadata": {
        "colab": {
          "base_uri": "https://localhost:8080/"
        },
        "id": "4mPA4bC9L2tX",
        "outputId": "693cc84b-80bb-4846-e751-2648de21f54a"
      },
      "execution_count": null,
      "outputs": [
        {
          "output_type": "execute_result",
          "data": {
            "text/plain": [
              "[1]"
            ]
          },
          "metadata": {},
          "execution_count": 130
        }
      ]
    },
    {
      "cell_type": "markdown",
      "source": [
        "mpi"
      ],
      "metadata": {
        "id": "ksdRe6dEMLNo"
      }
    },
    {
      "cell_type": "code",
      "source": [
        "!pip install mpi4py"
      ],
      "metadata": {
        "colab": {
          "base_uri": "https://localhost:8080/"
        },
        "id": "9rzFXHSQMRkX",
        "outputId": "657f8685-b918-49c8-fbaf-b1b67226ff5c"
      },
      "execution_count": null,
      "outputs": [
        {
          "output_type": "stream",
          "name": "stdout",
          "text": [
            "Looking in indexes: https://pypi.org/simple, https://us-python.pkg.dev/colab-wheels/public/simple/\n",
            "Collecting mpi4py\n",
            "  Downloading mpi4py-3.1.4.tar.gz (2.5 MB)\n",
            "\u001b[K     |████████████████████████████████| 2.5 MB 27.9 MB/s \n",
            "\u001b[?25h  Installing build dependencies ... \u001b[?25l\u001b[?25hdone\n",
            "  Getting requirements to build wheel ... \u001b[?25l\u001b[?25hdone\n",
            "    Preparing wheel metadata ... \u001b[?25l\u001b[?25hdone\n",
            "Building wheels for collected packages: mpi4py\n",
            "  Building wheel for mpi4py (PEP 517) ... \u001b[?25l\u001b[?25hdone\n",
            "  Created wheel for mpi4py: filename=mpi4py-3.1.4-cp38-cp38-linux_x86_64.whl size=4438526 sha256=20c6627e5b71bd9f72eed8e7fff3dd9e2352506048b59ad879d127d6515e64a7\n",
            "  Stored in directory: /root/.cache/pip/wheels/f3/35/48/0b9a7076995eea5ea64a7e4bc3f0f342f453080795276264e7\n",
            "Successfully built mpi4py\n",
            "Installing collected packages: mpi4py\n",
            "Successfully installed mpi4py-3.1.4\n"
          ]
        }
      ]
    },
    {
      "cell_type": "code",
      "source": [
        "from mpi4py import MPI\n",
        "import time\n",
        "import math\n",
        "from scipy import random\n",
        "import time\n",
        "import copy\n",
        "import numpy as np\n",
        "import pandas as pd\n",
        "import matplotlib.pyplot as plt\n",
        "from sklearn.model_selection import train_test_split\n",
        "import torch\n",
        "import torchvision\n",
        "import torch.nn as nn\n",
        "import torch.optim as optim\n",
        "import torchvision.transforms as transforms\n",
        "from torch.utils.data import Dataset, DataLoader, ConcatDataset\n",
        "\n",
        "comm = MPI.COMM_WORLD\n",
        "rank = comm.rank\n",
        "size = comm.size\n",
        "data = None \n",
        "\n",
        "transform = transforms.Compose([\n",
        "    transforms.ToPILImage(),\n",
        "    transforms.RandomAffine(degrees=20, scale=(1.1, 1.1)),\n",
        "    transforms.RandomCrop((28, 28), padding=2, pad_if_needed=True, fill=0, padding_mode='constant'),\n",
        "    transforms.ToTensor()\n",
        "])\n",
        "\n",
        "if rank == 0:\n",
        "  train = pd.read_csv(\"/content/train.csv\",dtype = np.float32)\n",
        "  data = [train[x*20: x*20 + 20] for x in range(size)]\n",
        "  print(\"Рассылаем всем вычислительным узлам свою часть датасета\")\n",
        "\n",
        "interval = comm.scatter(data, root=0)\n",
        "\n",
        "data = None\n",
        "if rank != 0:\n",
        "  train = interval\n",
        "  labels = train.label.values\n",
        "  data = train.iloc[:, 1:].values / 255 # Normalization\n",
        "  labels = torch.from_numpy(labels).type(torch.LongTensor)\n",
        "  data = torch.from_numpy(data).view(data.shape[0], 1, 28, 28)\n",
        "  train_data, val_data, train_labels, val_labels = train_test_split(data, labels, test_size = 0.2, random_state = 42)\n",
        "  \n",
        "  class CustomTensorDataset(Dataset):\n",
        "    def __init__(self, data, labels=None, transform=None):      \n",
        "      self.data = data\n",
        "      self.labels = labels\n",
        "      self.transform = transform\n",
        "\n",
        "    def __getitem__(self, index):       \n",
        "      x = self.data[index]\n",
        "       \n",
        "      if self.transform is not None:\n",
        "        x = self.transform(x)\n",
        "      if self.labels is not None:\n",
        "        y = self.labels[index]\n",
        "        return x, y\n",
        "      else:\n",
        "        return x\n",
        "\n",
        "    def __len__(self):    \n",
        "      return self.data.size(0)\n",
        "  trainset = ConcatDataset([\n",
        "    CustomTensorDataset(train_data, train_labels),\n",
        "    CustomTensorDataset(train_data, train_labels, transform=transform)\n",
        "  ])\n",
        "  valset = CustomTensorDataset(val_data, val_labels)\n",
        "  train_loader = DataLoader(trainset, batch_size=32, shuffle=True)\n",
        "  val_loader = DataLoader(valset, batch_size=32, shuffle=False)\n",
        "  \n",
        "  class Block(nn.Module):\n",
        "    \n",
        "    def __init__(self, in_channels, out_channels, identity_downsample=None, stride=1):\n",
        "        super(Block, self).__init__()\n",
        "        self.conv1 = nn.Conv2d(in_channels, out_channels, kernel_size=3, stride=stride, padding=1)\n",
        "        self.bn1 = nn.BatchNorm2d(out_channels)\n",
        "        self.conv2 = nn.Conv2d(out_channels, out_channels, kernel_size=3, stride=1, padding=1)\n",
        "        self.bn2 = nn.BatchNorm2d(out_channels)\n",
        "        self.relu = nn.ReLU()\n",
        "        self.identity_downsample = identity_downsample\n",
        "        \n",
        "    def forward(self, x):\n",
        "        identity = x\n",
        "        x = self.conv1(x)\n",
        "        x = self.bn1(x)\n",
        "        x = self.relu(x)\n",
        "        x = self.conv2(x)\n",
        "        x = self.bn2(x)\n",
        "        if self.identity_downsample is not None:\n",
        "            identity = self.identity_downsample(identity)\n",
        "        x += identity\n",
        "        x = self.relu(x)\n",
        "        return x\n",
        "  \n",
        "  class ResNet_18(nn.Module):\n",
        "    \n",
        "    def __init__(self, image_channels, num_classes):\n",
        "        \n",
        "        super(ResNet_18, self).__init__()\n",
        "        self.in_channels = 64\n",
        "        self.conv1 = nn.Conv2d(image_channels, 64, kernel_size=7, stride=2, padding=3)\n",
        "        self.bn1 = nn.BatchNorm2d(64)\n",
        "        self.relu = nn.ReLU()\n",
        "        self.maxpool = nn.MaxPool2d(kernel_size=3, stride=2, padding=1)\n",
        "        \n",
        "        #resnet layers\n",
        "        self.layer1 = self.__make_layer(64, 64, stride=1)\n",
        "        self.layer2 = self.__make_layer(64, 128, stride=2)\n",
        "        self.layer3 = self.__make_layer(128, 256, stride=2)\n",
        "        self.layer4 = self.__make_layer(256, 512, stride=2)\n",
        "        \n",
        "        self.avgpool = nn.AdaptiveAvgPool2d((1, 1))\n",
        "        self.fc = nn.Linear(512, num_classes)\n",
        "        \n",
        "    def __make_layer(self, in_channels, out_channels, stride):\n",
        "        \n",
        "        identity_downsample = None\n",
        "        if stride != 1:\n",
        "            identity_downsample = self.identity_downsample(in_channels, out_channels)\n",
        "            \n",
        "        return nn.Sequential(\n",
        "            Block(in_channels, out_channels, identity_downsample=identity_downsample, stride=stride), \n",
        "            Block(out_channels, out_channels)\n",
        "        )\n",
        "        \n",
        "    def forward(self, x):\n",
        "        \n",
        "        x = self.conv1(x)\n",
        "        x = self.bn1(x)\n",
        "        x = self.relu(x)\n",
        "        x = self.maxpool(x)\n",
        "        \n",
        "        x = self.layer1(x)\n",
        "        x = self.layer2(x)\n",
        "        x = self.layer3(x)\n",
        "        x = self.layer4(x)\n",
        "        \n",
        "        x = self.avgpool(x)\n",
        "        x = x.view(x.shape[0], -1)\n",
        "        x = self.fc(x)\n",
        "        return x \n",
        "    \n",
        "    def identity_downsample(self, in_channels, out_channels):\n",
        "        \n",
        "        return nn.Sequential(\n",
        "            nn.Conv2d(in_channels, out_channels, kernel_size=3, stride=2, padding=1), \n",
        "            nn.BatchNorm2d(out_channels)\n",
        "        )\n",
        "  model = ResNet_18(1, 10)\n",
        "  epochs = 1\n",
        "  criterion = nn.CrossEntropyLoss()\n",
        "  optimizer = optim.Adam(model.parameters(), lr=0.0001, weight_decay=1e-4)\n",
        "  lr_scheduler = optim.lr_scheduler.ReduceLROnPlateau(optimizer, patience=5, verbose=True)\n",
        "  \n",
        "  def train_model(model, dataloaders, criterion, optimizer, num_epochs=50, is_inception=False):\n",
        "    val_acc_history = []\n",
        "    best_model_wts = copy.deepcopy(model.state_dict())\n",
        "    best_acc = 0.0\n",
        "\n",
        "    for epoch in range(num_epochs):\n",
        "        for phase in ['train', 'val']: # Each epoch has a training and validation phase\n",
        "            if phase == 'train':\n",
        "                model.train()  # Set model to training mode\n",
        "            else:\n",
        "                model.eval()   # Set model to evaluate mode\n",
        "\n",
        "            running_loss = 0.0\n",
        "            running_corrects = 0\n",
        "\n",
        "            for inputs, labels in dataloaders[phase]: # Iterate over data\n",
        "                \n",
        "                inputs = transforms.functional.resize(inputs, (112, 112))\n",
        "\n",
        "\n",
        "\n",
        "                optimizer.zero_grad() # Zero the parameter gradients\n",
        "\n",
        "                with torch.set_grad_enabled(phase == 'train'): # Forward. Track history if only in train\n",
        "                    \n",
        "                    outputs = model(inputs)\n",
        "                    loss = criterion(outputs, labels)\n",
        "                    _, preds = torch.max(outputs, 1)\n",
        "\n",
        "                    if phase == 'train': # Backward + optimize only if in training phase\n",
        "                        loss.backward()\n",
        "                        optimizer.step()\n",
        "\n",
        "                # Statistics\n",
        "                running_loss += loss.item() * inputs.size(0)\n",
        "                running_corrects += torch.sum(preds == labels.data)\n",
        "\n",
        "            epoch_loss = running_loss / len(dataloaders[phase].dataset)\n",
        "            \n",
        "            if phase == 'val': # Adjust learning rate based on val loss\n",
        "                lr_scheduler.step(epoch_loss)\n",
        "                \n",
        "            epoch_acc = running_corrects.double() / len(dataloaders[phase].dataset)\n",
        "\n",
        "            # deep copy the model\n",
        "            if phase == 'val' and epoch_acc > best_acc:\n",
        "                best_acc = epoch_acc\n",
        "                best_model_wts = copy.deepcopy(model.state_dict())\n",
        "            if phase == 'val':\n",
        "                val_acc_history.append(epoch_acc)\n",
        "\n",
        "        print()\n",
        "\n",
        "    # load best model weights\n",
        "    model.load_state_dict(best_model_wts)\n",
        "    return model, val_acc_history\n",
        "  \n",
        "  model, _ = train_model(model, {\"train\": train_loader, \"val\": val_loader}, criterion, optimizer, epochs)\n",
        "  \n",
        "  data = \"Узел №\" +str(rank) + \" обучился\"\n",
        "\n",
        "data = comm.gather(data,root=0)\n",
        "\n",
        "if rank == 0:\n",
        "  print (\"Этап 'А' выполнен! Узлы обучили модели:\", data)\n",
        "  print(\"Inference. Рассылаем ComputeNodes объект данных для предсказания\")\n",
        "  test = pd.read_csv(\"/content/test.csv\",dtype = np.float32)\n",
        "  data = test[0:100]\n",
        "\n",
        "data = comm.bcast(data)\n",
        "\n",
        "if rank != 0:\n",
        "  test = data\n",
        "  test = test.values / 255\n",
        "  test = torch.from_numpy(test).view(test.shape[0], 1, 28, 28)\n",
        "  testset = CustomTensorDataset(test, None)\n",
        "  test_loader = DataLoader(testset, batch_size=1, shuffle=False)\n",
        "  model.eval()\n",
        "  labels = []\n",
        "  for inputs in test_loader:\n",
        "    inputs = transforms.functional.resize(inputs, (112, 112))\n",
        "    outputs = model(inputs)\n",
        "    _, predictions = torch.max(outputs, 1)\n",
        "    predictions = predictions.to(\"cpu\")\n",
        "    labels.extend(predictions.numpy())\n",
        "    break\n",
        "  data = labels[0]\n",
        "\n",
        "\n",
        "data = comm.gather(data,root=0)\n",
        "\n",
        "if rank == 0:\n",
        "  print (\"Этап 'Б' выполнен! Предсказания получены\")\n",
        "  tmp = dict()\n",
        "  for i in data[1:]:\n",
        "    if i in tmp:\n",
        "      tmp[i] += 1\n",
        "    else:\n",
        "      tmp[i] = 1\n",
        "  max_val = max(tmp.values())\n",
        "  final_dict = {k:v for k, v in tmp.items() if v == max_val}\n",
        "  final = list(final_dict.keys())\n",
        "\n",
        "  r = np.random.randint(0, len(final))\n",
        "\n",
        "  print(\"Результат голосования: \", final[r])\n"
      ],
      "metadata": {
        "id": "MjLCctnWMMV_"
      },
      "execution_count": null,
      "outputs": []
    },
    {
      "cell_type": "code",
      "source": [
        "!mpirun -np 4 --allow-run-as-root python main.py"
      ],
      "metadata": {
        "colab": {
          "base_uri": "https://localhost:8080/"
        },
        "id": "my0unP9hTApS",
        "outputId": "8f123fde-2942-405f-88e1-2a96482d8451"
      },
      "execution_count": null,
      "outputs": [
        {
          "output_type": "stream",
          "name": "stdout",
          "text": [
            "Рассылаем всем вычислительным узлам свою часть датасета\n",
            "\n",
            "\n",
            "\n",
            "Этап 'А' выполнен! Узлы обучили модели: [None, 'Узел №1 обучился', 'Узел №2 обучился', 'Узел №3 обучился']\n",
            "Inference. Рассылаем ComputeNodes объект данных для предсказания\n",
            "Этап 'Б' выполнен! Предсказания получены\n",
            "Результат голосования:  9\n"
          ]
        }
      ]
    },
    {
      "cell_type": "code",
      "source": [],
      "metadata": {
        "id": "3o834Fl1rejr"
      },
      "execution_count": null,
      "outputs": []
    }
  ]
}